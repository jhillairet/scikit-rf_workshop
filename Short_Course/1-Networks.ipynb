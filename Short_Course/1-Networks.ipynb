{
 "cells": [
  {
   "cell_type": "markdown",
   "metadata": {
    "slideshow": {
     "slide_type": "slide"
    }
   },
   "source": [
    "# 1. `Network`: the base object of scikit-rf\n",
    "In this first part of this short course, we give an overview of the microwave network analysis \n",
    "features of scikit-rf. For the rest of the short course, it is  assumed that scikit-rf (**skrf**) has been imported as `rf`:\n"
   ]
  },
  {
   "cell_type": "code",
   "execution_count": 1,
   "metadata": {
    "slideshow": {
     "slide_type": "-"
    }
   },
   "outputs": [],
   "source": [
    "import skrf as rf"
   ]
  },
  {
   "cell_type": "markdown",
   "metadata": {
    "slideshow": {
     "slide_type": "slide"
    }
   },
   "source": [
    "# Creating Networks\n",
    "\n",
    "<img src=\"figures/Nport_network.png\" align=\"right\">\n",
    "\n",
    "**skrf** provides a Python object for a N-port microwave `Network`. A `Network` can be created in a number of ways:\n",
    " - from a Touchstone file (.sNP files)\n",
    " - from S-parameters\n",
    " - from Z-parameters\n",
    " - from other RF parameters (Y, ABCD, T, etc.) \n",
    " \n",
    "Some examples for each situation are given after."
   ]
  },
  {
   "cell_type": "markdown",
   "metadata": {
    "slideshow": {
     "slide_type": "subslide"
    }
   },
   "source": [
    "## Creating Network from Touchstone file\n",
    "[Touchstone file](https://en.wikipedia.org/wiki/Touchstone_file) (`.sNp` files, with `N` being the number of ports) is a _de facto_ standard to export N-port network parameter data and noise data of linear active devices, passive filters, passive devices, or interconnect networks. Creating a Network from a Touchstone file is simple:"
   ]
  },
  {
   "cell_type": "code",
   "execution_count": 2,
   "metadata": {
    "slideshow": {
     "slide_type": "-"
    }
   },
   "outputs": [],
   "source": [
    "ring_slot = rf.Network('data/ring slot.s2p')"
   ]
  },
  {
   "cell_type": "markdown",
   "metadata": {
    "slideshow": {
     "slide_type": "-"
    }
   },
   "source": [
    "Note that some softwares, such as ANSYS HFSS, add additional information to the Touchstone standard, such as comments, simulation parameters, Port Impedance or Gamma (wavenumber). These data are also imported if detected. "
   ]
  },
  {
   "cell_type": "markdown",
   "metadata": {
    "slideshow": {
     "slide_type": "slide"
    }
   },
   "source": [
    "\t\n",
    "A short description of the network will be printed out if entered onto the command line\n",
    "\t"
   ]
  },
  {
   "cell_type": "code",
   "execution_count": 3,
   "metadata": {
    "slideshow": {
     "slide_type": "-"
    }
   },
   "outputs": [
    {
     "data": {
      "text/plain": [
       "2-Port Network: 'ring slot',  75.0-110.0 GHz, 201 pts, z0=[50.+0.j 50.+0.j]"
      ]
     },
     "execution_count": 3,
     "metadata": {},
     "output_type": "execute_result"
    }
   ],
   "source": [
    "ring_slot  # or: print(ring_slot)"
   ]
  },
  {
   "cell_type": "markdown",
   "metadata": {
    "slideshow": {
     "slide_type": "slide"
    }
   },
   "source": [
    "### Diving into the content of the `Network` object \n",
    "\n",
    "The `Network` object stores the scattering parameters of a the Network, but also many other informations:\n",
    "- the frequency points \n",
    "- the characteristic impedances of the ports (which can be frequency dependent)"
   ]
  },
  {
   "cell_type": "markdown",
   "metadata": {
    "slideshow": {
     "slide_type": "fragment"
    }
   },
   "source": [
    "The S-parameter of a N-port network is stored in a `Network` as a Numpy array of shape `(nb_f, N, N)`, where `nb_f` is the number of frequency points and `N` the number of ports of the network. \n",
    "\n",
    "The S-parameter array is accessible with the `.s` parameter of the Network. For instance, our previous example is a 2-port with 201 frequency points, so the S-parameters array is of shape (201,2,2):"
   ]
  },
  {
   "cell_type": "code",
   "execution_count": 5,
   "metadata": {
    "slideshow": {
     "slide_type": "-"
    }
   },
   "outputs": [
    {
     "data": {
      "text/plain": [
       "(201, 2, 2)"
      ]
     },
     "execution_count": 5,
     "metadata": {},
     "output_type": "execute_result"
    }
   ],
   "source": [
    "ring_slot.s.shape"
   ]
  },
  {
   "cell_type": "markdown",
   "metadata": {
    "slideshow": {
     "slide_type": "slide"
    }
   },
   "source": [
    "### Creating Network from s-parameters\n",
    "Networks can also be created by directly by passing the values for the `frequency` points and tehe s-parameters (and optionally the port impedance `z0`)."
   ]
  },
  {
   "cell_type": "code",
   "execution_count": 4,
   "metadata": {
    "slideshow": {
     "slide_type": "-"
    }
   },
   "outputs": [
    {
     "name": "stdout",
     "output_type": "stream",
     "text": [
      "2-Port Network: 'random values 2-port',  1.0-10.0 GHz, 101 pts, z0=[50.+0.j 50.+0.j]\n"
     ]
    }
   ],
   "source": [
    "import numpy as np \n",
    "# dummy 2-port network from Frequency and s-parameters\n",
    "freq = rf.Frequency(start=1, stop=10, npoints=101, unit='ghz')\n",
    "\n",
    "s = np.random.rand(101, 2, 2) + 1j*np.random.rand(101, 2, 2)  # random complex numbers \n",
    "# if not passed, will assume z0=50. name is optional but it's a good practice.\n",
    "ntwk = rf.Network(frequency=freq, s=s, name='random values 2-port') \n",
    "print(ntwk)"
   ]
  },
  {
   "cell_type": "markdown",
   "metadata": {
    "slideshow": {
     "slide_type": "slide"
    }
   },
   "source": [
    "# Exercice: creating a Network from S-parameters\n",
    "Often, s-parameters are stored in separate arrays, say Numpy array `S11`, `S21`, `S12` and `S22`. "
   ]
  },
  {
   "cell_type": "code",
   "execution_count": 5,
   "metadata": {
    "slideshow": {
     "slide_type": "-"
    }
   },
   "outputs": [],
   "source": [
    "# let's assume we have separate arrays for the frequency and s-parameters\n",
    "f = np.array([1, 2, 3, 4]) # in GHz\n",
    "S11 = np.random.rand(4)\n",
    "S12 = np.random.rand(4)\n",
    "S21 = np.random.rand(4)\n",
    "S22 = np.random.rand(4)"
   ]
  },
  {
   "cell_type": "markdown",
   "metadata": {
    "slideshow": {
     "slide_type": "subslide"
    }
   },
   "source": [
    "In such case, one needs to forge the `frequency` and the `s` array of expected shape (nbf,2,2):"
   ]
  },
  {
   "cell_type": "code",
   "execution_count": 6,
   "metadata": {
    "slideshow": {
     "slide_type": "-"
    }
   },
   "outputs": [],
   "source": [
    "freq2 = rf.Frequency.from_f(f, unit='GHz')"
   ]
  },
  {
   "cell_type": "code",
   "execution_count": 7,
   "metadata": {
    "slideshow": {
     "slide_type": "-"
    }
   },
   "outputs": [],
   "source": [
    "# forging S-matrix as shape (nb_f, 2, 2)\n",
    "s = np.zeros((len(f), 2, 2), dtype=complex)\n",
    "s[:,0,0] = S11\n",
    "s[:,0,1] = S12\n",
    "s[:,1,0] = S21\n",
    "s[:,1,1] = S22"
   ]
  },
  {
   "cell_type": "code",
   "execution_count": 8,
   "metadata": {
    "slideshow": {
     "slide_type": "-"
    }
   },
   "outputs": [
    {
     "name": "stdout",
     "output_type": "stream",
     "text": [
      "2-Port Network: '',  1.0-4.0 GHz, 4 pts, z0=[50.+0.j 50.+0.j]\n"
     ]
    }
   ],
   "source": [
    "# constructing Network object\n",
    "ntw = rf.Network(frequency=freq2, s=s)\n",
    "print(ntw)"
   ]
  },
  {
   "cell_type": "markdown",
   "metadata": {
    "slideshow": {
     "slide_type": "slide"
    }
   },
   "source": [
    "If necessary, the characteristic impedance can be passed as a scalar (same for all frequencies), as a list or an array:"
   ]
  },
  {
   "cell_type": "code",
   "execution_count": 9,
   "metadata": {
    "slideshow": {
     "slide_type": "-"
    }
   },
   "outputs": [
    {
     "name": "stdout",
     "output_type": "stream",
     "text": [
      "2-Port Network: 'same z0 for all ports',  1.0-10.0 GHz, 101 pts, z0=[25.+0.j 25.+0.j]\n"
     ]
    }
   ],
   "source": [
    "ntw2 = rf.Network(frequency=freq, s=s, z0=25, name='same z0 for all ports')\n",
    "print(ntw2)"
   ]
  },
  {
   "cell_type": "code",
   "execution_count": 16,
   "metadata": {
    "slideshow": {
     "slide_type": "fragment"
    }
   },
   "outputs": [
    {
     "name": "stdout",
     "output_type": "stream",
     "text": [
      "2-Port Network: 'different z0 for each port',  1.0-10.0 GHz, 101 pts, z0=[20.+0.j 30.+0.j]\n"
     ]
    }
   ],
   "source": [
    "ntw3 = rf.Network(frequency=freq, s=s, z0=[20, 30], name='different z0 for each port')\n",
    "print(ntw3)"
   ]
  },
  {
   "cell_type": "code",
   "execution_count": 10,
   "metadata": {
    "slideshow": {
     "slide_type": "fragment"
    }
   },
   "outputs": [
    {
     "name": "stdout",
     "output_type": "stream",
     "text": [
      "2-Port Network: 'different z0 for each frequencies and ports',  1.0-10.0 GHz, 101 pts, z0=[0.80807483+0.j 0.58138651+0.j]\n"
     ]
    }
   ],
   "source": [
    "ntw4 = rf.Network(frequency=freq, s=s, z0=np.random.rand(101,2), \n",
    "                  name='different z0 for each frequencies and ports')\n",
    "print(ntw4)"
   ]
  },
  {
   "cell_type": "markdown",
   "metadata": {
    "slideshow": {
     "slide_type": "slide"
    }
   },
   "source": [
    "### Creating a Network from z-parameters \n",
    "As networks are also defined from their Z-parameters, there is `from_z()` method of the Network:"
   ]
  },
  {
   "cell_type": "code",
   "execution_count": 19,
   "metadata": {
    "slideshow": {
     "slide_type": "fragment"
    }
   },
   "outputs": [
    {
     "name": "stdout",
     "output_type": "stream",
     "text": [
      "1-Port Network: '',  1.0-10.0 GHz, 101 pts, z0=[50.+0.j]\n"
     ]
    }
   ],
   "source": [
    "# 1-port network example\n",
    "z = 10j\n",
    "Z = np.full((len(freq), 1, 1), z)  # replicate z for all frequencies\n",
    "\n",
    "ntw = rf.Network()\n",
    "ntw = ntw.from_z(Z)\n",
    "ntw.frequency = freq\n",
    "print(ntw)"
   ]
  },
  {
   "cell_type": "markdown",
   "metadata": {
    "slideshow": {
     "slide_type": "slide"
    }
   },
   "source": [
    "### From other network parameters (Z, Y, ABCD, T)\n",
    "It is also possible to generate Networks from other kind of RF parameters, using the conversion functions: `z2s`, `y2s`, `a2s`, `t2s`, `h2s`.\n",
    "\n",
    "For example, the [ABCD parameters](https://en.wikipedia.org/wiki/Two-port_network#ABCD-parameters) of a serie-impedance is:\n",
    "$$\n",
    "\\left[\n",
    "\\begin{array}{cc}\n",
    "1 & Z \\\\\n",
    "0 & 1\n",
    "\\end{array}\n",
    "\\right]\n",
    "$$"
   ]
  },
  {
   "cell_type": "code",
   "execution_count": 11,
   "metadata": {
    "slideshow": {
     "slide_type": "fragment"
    }
   },
   "outputs": [
    {
     "name": "stdout",
     "output_type": "stream",
     "text": [
      "2-Port Network: '',  1.0-10.0 GHz, 101 pts, z0=[50.+0.j 50.+0.j]\n"
     ]
    }
   ],
   "source": [
    "z = 20\n",
    "abcd = np.array([[1, z],\n",
    "                 [0, 1]])\n",
    "\n",
    "s = rf.a2s(np.tile(abcd, (len(freq),1,1))) # (2,2) -> (N,2,2)\n",
    "ntw = rf.Network(frequency=freq, s=s)\n",
    "print(ntw)"
   ]
  },
  {
   "cell_type": "markdown",
   "metadata": {
    "slideshow": {
     "slide_type": "slide"
    }
   },
   "source": [
    "## Gettint the Basic Properties of a Network\n",
    "\t\n",
    "The basic attributes of a microwave Network are provided by the following properties :\n",
    "\n",
    "* `Network.s` : Scattering Parameter matrix. \n",
    "* `Network.z0`  : Port Characteristic Impedance matrix.\n",
    "* `Network.frequency`  : Frequency Object. \n",
    "\n"
   ]
  },
  {
   "cell_type": "markdown",
   "metadata": {
    "slideshow": {
     "slide_type": "fragment"
    }
   },
   "source": [
    "The `Network` object has numerous other properties and methods. If you are using IPython/Jupyter, then these properties and methods can be 'tabbed' out on the command line:"
   ]
  },
  {
   "cell_type": "code",
   "execution_count": 12,
   "metadata": {
    "slideshow": {
     "slide_type": "-"
    }
   },
   "outputs": [
    {
     "data": {
      "text/plain": [
       "2-Port Network: 'ring slot',  75.0-110.0 GHz, 201 pts, z0=[50.+0.j 50.+0.j]"
      ]
     },
     "execution_count": 12,
     "metadata": {},
     "output_type": "execute_result"
    }
   ],
   "source": [
    "ring_slot # press .<TAB>"
   ]
  },
  {
   "cell_type": "markdown",
   "metadata": {
    "slideshow": {
     "slide_type": "slide"
    }
   },
   "source": [
    "\n",
    "All of the network parameters are represented internally as complex `numpy.ndarray`. The s-parameters are of shape (nfreq, nport, nport)"
   ]
  },
  {
   "cell_type": "code",
   "execution_count": 25,
   "metadata": {
    "slideshow": {
     "slide_type": "-"
    }
   },
   "outputs": [
    {
     "data": {
      "text/plain": [
       "(201, 2, 2)"
      ]
     },
     "execution_count": 25,
     "metadata": {},
     "output_type": "execute_result"
    }
   ],
   "source": [
    "ring_slot.s.shape"
   ]
  },
  {
   "cell_type": "markdown",
   "metadata": {
    "slideshow": {
     "slide_type": "slide"
    }
   },
   "source": [
    "## Projections\n",
    "Network parameters, such as S-parameters, are complex numbers. However, it is more convenient to represent these network parameters using some mathematical projections, such as the magnitude in dB or the phase in degree.\n",
    "\n",
    "Several mathematical projections of the network parameters are available for each network parameters. For example, if you want the magnitude in dB of the S-parameters:"
   ]
  },
  {
   "cell_type": "code",
   "execution_count": 13,
   "metadata": {
    "slideshow": {
     "slide_type": "-"
    }
   },
   "outputs": [
    {
     "data": {
      "text/plain": [
       "array([[[ -3.34082483,  -2.91699627],\n",
       "        [ -2.91699627,  -3.37080014]],\n",
       "\n",
       "       [[ -3.4222167 ,  -2.84683359],\n",
       "        [ -2.84683359,  -3.4532234 ]],\n",
       "\n",
       "       [[ -3.50613007,  -2.77698192],\n",
       "        [ -2.77698192,  -3.53821967]],\n",
       "\n",
       "       [[ -3.59265913,  -2.70746271],\n",
       "        [ -2.70746271,  -3.62588667]],\n",
       "\n",
       "       [[ -3.68190224,  -2.63829807],\n",
       "        [ -2.63829807,  -3.71632656]],\n",
       "\n",
       "       [[ -3.77396221,  -2.56951074],\n",
       "        [ -2.56951074,  -3.80964628]],\n",
       "\n",
       "       [[ -3.86894646,  -2.50112414],\n",
       "        [ -2.50112414,  -3.90595777]],\n",
       "\n",
       "       [[ -3.96696735,  -2.43316234],\n",
       "        [ -2.43316234,  -4.00537829]],\n",
       "\n",
       "       [[ -4.06814247,  -2.36565007],\n",
       "        [ -2.36565007,  -4.10803077]],\n",
       "\n",
       "       [[ -4.17259488,  -2.29861268],\n",
       "        [ -2.29861268,  -4.21404416]],\n",
       "\n",
       "       [[ -4.28045355,  -2.23207619],\n",
       "        [ -2.23207619,  -4.32355381]],\n",
       "\n",
       "       [[ -4.39185361,  -2.16606723],\n",
       "        [ -2.16606723,  -4.43670189]],\n",
       "\n",
       "       [[ -4.50693682,  -2.10061306],\n",
       "        [ -2.10061306,  -4.55363788]],\n",
       "\n",
       "       [[ -4.62585196,  -2.03574152],\n",
       "        [ -2.03574152,  -4.67451907]],\n",
       "\n",
       "       [[ -4.74875529,  -1.97148107],\n",
       "        [ -1.97148107,  -4.79951108]],\n",
       "\n",
       "       [[ -4.87581109,  -1.9078607 ],\n",
       "        [ -1.9078607 ,  -4.92878853]],\n",
       "\n",
       "       [[ -5.00719216,  -1.84490997],\n",
       "        [ -1.84490997,  -5.06253567]],\n",
       "\n",
       "       [[ -5.14308044,  -1.78265895],\n",
       "        [ -1.78265895,  -5.20094717]],\n",
       "\n",
       "       [[ -5.28366769,  -1.72113819],\n",
       "        [ -1.72113819,  -5.34422889]],\n",
       "\n",
       "       [[ -5.42915617,  -1.66037869],\n",
       "        [ -1.66037869,  -5.49259881]],\n",
       "\n",
       "       [[ -5.57975947,  -1.60041191],\n",
       "        [ -1.60041191,  -5.6462881 ]],\n",
       "\n",
       "       [[ -5.73570337,  -1.54126964],\n",
       "        [ -1.54126964,  -5.80554217]],\n",
       "\n",
       "       [[ -5.89722678,  -1.48298405],\n",
       "        [ -1.48298405,  -5.970622  ]],\n",
       "\n",
       "       [[ -6.06458284,  -1.42558758],\n",
       "        [ -1.42558758,  -6.14180553]],\n",
       "\n",
       "       [[ -6.23804008,  -1.36911292],\n",
       "        [ -1.36911292,  -6.31938924]],\n",
       "\n",
       "       [[ -6.4178837 ,  -1.31359297],\n",
       "        [ -1.31359297,  -6.50369001]],\n",
       "\n",
       "       [[ -6.60441702,  -1.25906075],\n",
       "        [ -1.25906075,  -6.69504706]],\n",
       "\n",
       "       [[ -6.7979631 ,  -1.20554935],\n",
       "        [ -1.20554935,  -6.8938243 ]],\n",
       "\n",
       "       [[ -6.99886646,  -1.1530919 ],\n",
       "        [ -1.1530919 ,  -7.10041296]],\n",
       "\n",
       "       [[ -7.20749509,  -1.10172146],\n",
       "        [ -1.10172146,  -7.31523447]],\n",
       "\n",
       "       [[ -7.42424263,  -1.05147097],\n",
       "        [ -1.05147097,  -7.53874397]],\n",
       "\n",
       "       [[ -7.64953076,  -1.0023732 ],\n",
       "        [ -1.0023732 ,  -7.77143412]],\n",
       "\n",
       "       [[ -7.88381191,  -0.95446061],\n",
       "        [ -0.95446061,  -8.01383959]],\n",
       "\n",
       "       [[ -8.12757221,  -0.90776537],\n",
       "        [ -0.90776537,  -8.26654226]],\n",
       "\n",
       "       [[ -8.38133481,  -0.8623192 ],\n",
       "        [ -0.8623192 ,  -8.53017716]],\n",
       "\n",
       "       [[ -8.64566344,  -0.8181533 ],\n",
       "        [ -0.8181533 ,  -8.8054394 ]],\n",
       "\n",
       "       [[ -8.92116637,  -0.77529833],\n",
       "        [ -0.77529833,  -9.09309231]],\n",
       "\n",
       "       [[ -9.20850065,  -0.73378424],\n",
       "        [ -0.73378424,  -9.39397686]],\n",
       "\n",
       "       [[ -9.50837669,  -0.69364025],\n",
       "        [ -0.69364025,  -9.70902281]],\n",
       "\n",
       "       [[ -9.82156299,  -0.65489472],\n",
       "        [ -0.65489472, -10.03926177]],\n",
       "\n",
       "       [[-10.14889096,  -0.61757512],\n",
       "        [ -0.61757512, -10.38584271]],\n",
       "\n",
       "       [[-10.49125964,  -0.58170789],\n",
       "        [ -0.58170789, -10.75005031]],\n",
       "\n",
       "       [[-10.84963967,  -0.54731838],\n",
       "        [ -0.54731838, -11.13332684]],\n",
       "\n",
       "       [[-11.22507615,  -0.51443078],\n",
       "        [ -0.51443078, -11.53729817]],\n",
       "\n",
       "       [[-11.61868914,  -0.48306801],\n",
       "        [ -0.48306801, -11.96380492]],\n",
       "\n",
       "       [[-12.03167015,  -0.45325169],\n",
       "        [ -0.45325169, -12.41493956]],\n",
       "\n",
       "       [[-12.46527206,  -0.42500201],\n",
       "        [ -0.42500201, -12.89309059]],\n",
       "\n",
       "       [[-12.92078846,  -0.39833772],\n",
       "        [ -0.39833772, -13.4009947 ]],\n",
       "\n",
       "       [[-13.39951581,  -0.37327599],\n",
       "        [ -0.37327599, -13.94179754]],\n",
       "\n",
       "       [[-13.90268888,  -0.34983243],\n",
       "        [ -0.34983243, -14.51912235]],\n",
       "\n",
       "       [[-14.43137389,  -0.32802096],\n",
       "        [ -0.32802096, -15.13714335]],\n",
       "\n",
       "       [[-14.98629603,  -0.30785382],\n",
       "        [ -0.30785382, -15.80065443]],\n",
       "\n",
       "       [[-15.56756579,  -0.28934149],\n",
       "        [ -0.28934149, -16.51511113]],\n",
       "\n",
       "       [[-16.17425212,  -0.27249263],\n",
       "        [ -0.27249263, -17.2865963 ]],\n",
       "\n",
       "       [[-16.80372982,  -0.25731411],\n",
       "        [ -0.25731411, -18.1216012 ]],\n",
       "\n",
       "       [[-17.45071178,  -0.24381093],\n",
       "        [ -0.24381093, -19.02638914]],\n",
       "\n",
       "       [[-18.10588276,  -0.23198621],\n",
       "        [ -0.23198621, -20.00544418]],\n",
       "\n",
       "       [[-18.75413344,  -0.2218412 ],\n",
       "        [ -0.2218412 , -21.05796862]],\n",
       "\n",
       "       [[-19.37264831,  -0.21337526],\n",
       "        [ -0.21337526, -22.17040825]],\n",
       "\n",
       "       [[-19.92964902,  -0.20658585],\n",
       "        [ -0.20658585, -23.30178065]],\n",
       "\n",
       "       [[-20.38539373,  -0.20146857],\n",
       "        [ -0.20146857, -24.35987286]],\n",
       "\n",
       "       [[-20.69744529,  -0.19801713],\n",
       "        [ -0.19801713, -25.18031742]],\n",
       "\n",
       "       [[-20.83080011,  -0.19622342],\n",
       "        [ -0.19622342, -25.55664608]],\n",
       "\n",
       "       [[-20.76948986,  -0.19607753],\n",
       "        [ -0.19607753, -25.3654398 ]],\n",
       "\n",
       "       [[-20.52279574,  -0.19756775],\n",
       "        [ -0.19756775, -24.67692965]],\n",
       "\n",
       "       [[-20.12156112,  -0.20068066],\n",
       "        [ -0.20068066, -23.68914039]],\n",
       "\n",
       "       [[-19.60734149,  -0.20540115],\n",
       "        [ -0.20540115, -22.58642859]],\n",
       "\n",
       "       [[-19.02133444,  -0.2117125 ],\n",
       "        [ -0.2117125 , -21.48148431]],\n",
       "\n",
       "       [[-18.39771568,  -0.2195964 ],\n",
       "        [ -0.2195964 , -20.4278305 ]],\n",
       "\n",
       "       [[-17.76166146,  -0.22903305],\n",
       "        [ -0.22903305, -19.44528281]],\n",
       "\n",
       "       [[-17.13018205,  -0.24000121],\n",
       "        [ -0.24000121, -18.53741125]],\n",
       "\n",
       "       [[-16.51396564,  -0.25247828],\n",
       "        [ -0.25247828, -17.70080114]],\n",
       "\n",
       "       [[-15.91922635,  -0.26644037],\n",
       "        [ -0.26644037, -16.92947971]],\n",
       "\n",
       "       [[-15.3491861 ,  -0.2818624 ],\n",
       "        [ -0.2818624 , -16.21691006]],\n",
       "\n",
       "       [[-14.80514439,  -0.29871813],\n",
       "        [ -0.29871813, -15.55683278]],\n",
       "\n",
       "       [[-14.2872077 ,  -0.31698031],\n",
       "        [ -0.31698031, -14.94357747]],\n",
       "\n",
       "       [[-13.79476993,  -0.33662071],\n",
       "        [ -0.33662071, -14.37213728]],\n",
       "\n",
       "       [[-13.32682198,  -0.35761021],\n",
       "        [ -0.35761021, -13.83814284]],\n",
       "\n",
       "       [[-12.88214775,  -0.37991892],\n",
       "        [ -0.37991892, -13.33779847]],\n",
       "\n",
       "       [[-12.45944617,  -0.40351624],\n",
       "        [ -0.40351624, -12.86780881]],\n",
       "\n",
       "       [[-12.05740554,  -0.42837094],\n",
       "        [ -0.42837094, -12.42530829]],\n",
       "\n",
       "       [[-11.67474753,  -0.45445125],\n",
       "        [ -0.45445125, -12.00779783]],\n",
       "\n",
       "       [[-11.31025176,  -0.48172494],\n",
       "        [ -0.48172494, -11.61309017]],\n",
       "\n",
       "       [[-10.96276833,  -0.5101594 ],\n",
       "        [ -0.5101594 , -11.23926336]],\n",
       "\n",
       "       [[-10.63122278,  -0.53972173],\n",
       "        [ -0.53972173, -10.88462165]],\n",
       "\n",
       "       [[-10.3146165 ,  -0.57037878],\n",
       "        [ -0.57037878, -10.54766264]],\n",
       "\n",
       "       [[-10.01202441,  -0.60209729],\n",
       "        [ -0.60209729, -10.22704985]],\n",
       "\n",
       "       [[ -9.72259114,  -0.63484387],\n",
       "        [ -0.63484387,  -9.92158963]],\n",
       "\n",
       "       [[ -9.44552648,  -0.66858514],\n",
       "        [ -0.66858514,  -9.63021179]],\n",
       "\n",
       "       [[ -9.18010058,  -0.70328776],\n",
       "        [ -0.70328776,  -9.35195334]],\n",
       "\n",
       "       [[ -8.92563905,  -0.73891852],\n",
       "        [ -0.73891852,  -9.08594463]],\n",
       "\n",
       "       [[ -8.68151842,  -0.77544434],\n",
       "        [ -0.77544434,  -8.83139771]],\n",
       "\n",
       "       [[ -8.44716168,  -0.81283241],\n",
       "        [ -0.81283241,  -8.58759633]],\n",
       "\n",
       "       [[ -8.22203427,  -0.85105014],\n",
       "        [ -0.85105014,  -8.35388745]],\n",
       "\n",
       "       [[ -8.00564034,  -0.89006529],\n",
       "        [ -0.89006529,  -8.12967393]],\n",
       "\n",
       "       [[ -7.79751932,  -0.92984598],\n",
       "        [ -0.92984598,  -7.91440824]],\n",
       "\n",
       "       [[ -7.5972429 ,  -0.97036074],\n",
       "        [ -0.97036074,  -7.70758707]],\n",
       "\n",
       "       [[ -7.40441216,  -1.01157851],\n",
       "        [ -1.01157851,  -7.50874655]],\n",
       "\n",
       "       [[ -7.21865506,  -1.05346873],\n",
       "        [ -1.05346873,  -7.31745822]],\n",
       "\n",
       "       [[ -7.03962418,  -1.09600134],\n",
       "        [ -1.09600134,  -7.13332541]],\n",
       "\n",
       "       [[ -6.86699462,  -1.1391468 ],\n",
       "        [ -1.1391468 ,  -6.95598016]],\n",
       "\n",
       "       [[ -6.70046219,  -1.18287614],\n",
       "        [ -1.18287614,  -6.78508038]],\n",
       "\n",
       "       [[ -6.53974166,  -1.22716096],\n",
       "        [ -1.22716096,  -6.62030754]],\n",
       "\n",
       "       [[ -6.38456531,  -1.27197344],\n",
       "        [ -1.27197344,  -6.46136444]],\n",
       "\n",
       "       [[ -6.23468151,  -1.3172864 ],\n",
       "        [ -1.3172864 ,  -6.30797332]],\n",
       "\n",
       "       [[ -6.0898535 ,  -1.36307326],\n",
       "        [ -1.36307326,  -6.15987423]],\n",
       "\n",
       "       [[ -5.94985825,  -1.40930808],\n",
       "        [ -1.40930808,  -6.01682347]],\n",
       "\n",
       "       [[ -5.81448545,  -1.45596557],\n",
       "        [ -1.45596557,  -5.87859224]],\n",
       "\n",
       "       [[ -5.68353657,  -1.50302107],\n",
       "        [ -1.50302107,  -5.74496547]],\n",
       "\n",
       "       [[ -5.55682403,  -1.55045059],\n",
       "        [ -1.55045059,  -5.61574075]],\n",
       "\n",
       "       [[ -5.43417039,  -1.59823079],\n",
       "        [ -1.59823079,  -5.49072727]],\n",
       "\n",
       "       [[ -5.31540771,  -1.646339  ],\n",
       "        [ -1.646339  ,  -5.36974506]],\n",
       "\n",
       "       [[ -5.20037684,  -1.69475317],\n",
       "        [ -1.69475317,  -5.25262409]],\n",
       "\n",
       "       [[ -5.08892688,  -1.74345195],\n",
       "        [ -1.74345195,  -5.13920361]],\n",
       "\n",
       "       [[ -4.98091461,  -1.79241459],\n",
       "        [ -1.79241459,  -5.02933149]],\n",
       "\n",
       "       [[ -4.87620401,  -1.84162101],\n",
       "        [ -1.84162101,  -4.92286358]],\n",
       "\n",
       "       [[ -4.7746658 ,  -1.89105178],\n",
       "        [ -1.89105178,  -4.81966324]],\n",
       "\n",
       "       [[ -4.67617703,  -1.94068807],\n",
       "        [ -1.94068807,  -4.71960076]],\n",
       "\n",
       "       [[ -4.58062066,  -1.99051168],\n",
       "        [ -1.99051168,  -4.62255298]],\n",
       "\n",
       "       [[ -4.48788525,  -2.04050505],\n",
       "        [ -2.04050505,  -4.52840282]],\n",
       "\n",
       "       [[ -4.39786458,  -2.09065119],\n",
       "        [ -2.09065119,  -4.43703892]],\n",
       "\n",
       "       [[ -4.31045738,  -2.14093371],\n",
       "        [ -2.14093371,  -4.34835529]],\n",
       "\n",
       "       [[ -4.22556705,  -2.19133681],\n",
       "        [ -2.19133681,  -4.26225095]],\n",
       "\n",
       "       [[ -4.14310135,  -2.24184526],\n",
       "        [ -2.24184526,  -4.1786297 ]],\n",
       "\n",
       "       [[ -4.0629722 ,  -2.29244438],\n",
       "        [ -2.29244438,  -4.09739977]],\n",
       "\n",
       "       [[ -3.98509543,  -2.34312005],\n",
       "        [ -2.34312005,  -4.0184736 ]],\n",
       "\n",
       "       [[ -3.90939058,  -2.39385867],\n",
       "        [ -2.39385867,  -3.94176757]],\n",
       "\n",
       "       [[ -3.83578069,  -2.44464716],\n",
       "        [ -2.44464716,  -3.86720184]],\n",
       "\n",
       "       [[ -3.76419213,  -2.49547296],\n",
       "        [ -2.49547296,  -3.79470008]],\n",
       "\n",
       "       [[ -3.69455439,  -2.54632401],\n",
       "        [ -2.54632401,  -3.72418931]],\n",
       "\n",
       "       [[ -3.62679998,  -2.5971887 ],\n",
       "        [ -2.5971887 ,  -3.65559969]],\n",
       "\n",
       "       [[ -3.56086421,  -2.64805593],\n",
       "        [ -2.64805593,  -3.58886441]],\n",
       "\n",
       "       [[ -3.4966851 ,  -2.69891504],\n",
       "        [ -2.69891504,  -3.52391948]],\n",
       "\n",
       "       [[ -3.4342032 ,  -2.7497558 ],\n",
       "        [ -2.7497558 ,  -3.46070359]],\n",
       "\n",
       "       [[ -3.37336152,  -2.80056842],\n",
       "        [ -2.80056842,  -3.39915802]],\n",
       "\n",
       "       [[ -3.31410535,  -2.85134353],\n",
       "        [ -2.85134353,  -3.33922645]],\n",
       "\n",
       "       [[ -3.25638221,  -2.90207218],\n",
       "        [ -2.90207218,  -3.28085486]],\n",
       "\n",
       "       [[ -3.20014168,  -2.95274577],\n",
       "        [ -2.95274577,  -3.22399145]],\n",
       "\n",
       "       [[ -3.14533537,  -3.00335613],\n",
       "        [ -3.00335613,  -3.16858648]],\n",
       "\n",
       "       [[ -3.09191675,  -3.05389541],\n",
       "        [ -3.05389541,  -3.11459221]],\n",
       "\n",
       "       [[ -3.03984115,  -3.10435616],\n",
       "        [ -3.10435616,  -3.06196279]],\n",
       "\n",
       "       [[ -2.98906558,  -3.15473124],\n",
       "        [ -3.15473124,  -3.01065416]],\n",
       "\n",
       "       [[ -2.93954875,  -3.20501387],\n",
       "        [ -3.20501387,  -2.96062399]],\n",
       "\n",
       "       [[ -2.89125092,  -3.25519756],\n",
       "        [ -3.25519756,  -2.91183158]],\n",
       "\n",
       "       [[ -2.84413385,  -3.30527615],\n",
       "        [ -3.30527615,  -2.8642378 ]],\n",
       "\n",
       "       [[ -2.79816074,  -3.35524379],\n",
       "        [ -3.35524379,  -2.81780501]],\n",
       "\n",
       "       [[ -2.75329619,  -3.40509489],\n",
       "        [ -3.40509489,  -2.77249699]],\n",
       "\n",
       "       [[ -2.7095061 ,  -3.45482417],\n",
       "        [ -3.45482417,  -2.72827889]],\n",
       "\n",
       "       [[ -2.66675761,  -3.50442658],\n",
       "        [ -3.50442658,  -2.68511715]],\n",
       "\n",
       "       [[ -2.62501908,  -3.55389737],\n",
       "        [ -3.55389737,  -2.64297946]],\n",
       "\n",
       "       [[ -2.58426004,  -3.60323201],\n",
       "        [ -3.60323201,  -2.60183471]],\n",
       "\n",
       "       [[ -2.54445109,  -3.65242623],\n",
       "        [ -3.65242623,  -2.56165291]],\n",
       "\n",
       "       [[ -2.50556391,  -3.70147598],\n",
       "        [ -3.70147598,  -2.52240517]],\n",
       "\n",
       "       [[ -2.46757118,  -3.75037742],\n",
       "        [ -3.75037742,  -2.48406364]],\n",
       "\n",
       "       [[ -2.43044657,  -3.79912696],\n",
       "        [ -3.79912696,  -2.44660147]],\n",
       "\n",
       "       [[ -2.39416464,  -3.84772117],\n",
       "        [ -3.84772117,  -2.40999278]],\n",
       "\n",
       "       [[ -2.3587009 ,  -3.89615687],\n",
       "        [ -3.89615687,  -2.37421257]],\n",
       "\n",
       "       [[ -2.32403166,  -3.94443101],\n",
       "        [ -3.94443101,  -2.33923677]],\n",
       "\n",
       "       [[ -2.29013409,  -3.99254078],\n",
       "        [ -3.99254078,  -2.30504212]],\n",
       "\n",
       "       [[ -2.25698613,  -4.04048351],\n",
       "        [ -4.04048351,  -2.27160617]],\n",
       "\n",
       "       [[ -2.22456648,  -4.08825672],\n",
       "        [ -4.08825672,  -2.23890727]],\n",
       "\n",
       "       [[ -2.19285458,  -4.13585806],\n",
       "        [ -4.13585806,  -2.20692448]],\n",
       "\n",
       "       [[ -2.16183053,  -4.18328537],\n",
       "        [ -4.18328537,  -2.17563761]],\n",
       "\n",
       "       [[ -2.13147515,  -4.23053662],\n",
       "        [ -4.23053662,  -2.14502713]],\n",
       "\n",
       "       [[ -2.10176986,  -4.27760993],\n",
       "        [ -4.27760993,  -2.11507419]],\n",
       "\n",
       "       [[ -2.07269674,  -4.32450356],\n",
       "        [ -4.32450356,  -2.08576056]],\n",
       "\n",
       "       [[ -2.04423843,  -4.37121589],\n",
       "        [ -4.37121589,  -2.05706862]],\n",
       "\n",
       "       [[ -2.01637816,  -4.41774544],\n",
       "        [ -4.41774544,  -2.02898134]],\n",
       "\n",
       "       [[ -1.98909971,  -4.46409083],\n",
       "        [ -4.46409083,  -2.00148226]],\n",
       "\n",
       "       [[ -1.96238739,  -4.51025082],\n",
       "        [ -4.51025082,  -1.97455544]],\n",
       "\n",
       "       [[ -1.936226  ,  -4.55622427],\n",
       "        [ -4.55622427,  -1.94818549]],\n",
       "\n",
       "       [[ -1.91060087,  -4.60201015],\n",
       "        [ -4.60201015,  -1.92235749]],\n",
       "\n",
       "       [[ -1.88549777,  -4.64760751],\n",
       "        [ -4.64760751,  -1.89705702]],\n",
       "\n",
       "       [[ -1.86090292,  -4.69301554],\n",
       "        [ -4.69301554,  -1.87227013]],\n",
       "\n",
       "       [[ -1.83680301,  -4.73823347],\n",
       "        [ -4.73823347,  -1.8479833 ]],\n",
       "\n",
       "       [[ -1.81318513,  -4.78326067],\n",
       "        [ -4.78326067,  -1.82418344]],\n",
       "\n",
       "       [[ -1.79003677,  -4.82809656],\n",
       "        [ -4.82809656,  -1.8008579 ]],\n",
       "\n",
       "       [[ -1.76734582,  -4.87274065],\n",
       "        [ -4.87274065,  -1.77799439]],\n",
       "\n",
       "       [[ -1.74510056,  -4.91719254],\n",
       "        [ -4.91719254,  -1.75558105]],\n",
       "\n",
       "       [[ -1.72328961,  -4.96145189],\n",
       "        [ -4.96145189,  -1.73360634]],\n",
       "\n",
       "       [[ -1.70190196,  -5.00551844],\n",
       "        [ -5.00551844,  -1.71205912]],\n",
       "\n",
       "       [[ -1.68092693,  -5.04939199],\n",
       "        [ -5.04939199,  -1.69092857]],\n",
       "\n",
       "       [[ -1.66035415,  -5.0930724 ],\n",
       "        [ -5.0930724 ,  -1.67020422]],\n",
       "\n",
       "       [[ -1.6401736 ,  -5.13655961],\n",
       "        [ -5.13655961,  -1.64987589]],\n",
       "\n",
       "       [[ -1.62037553,  -5.1798536 ],\n",
       "        [ -5.1798536 ,  -1.62993375]],\n",
       "\n",
       "       [[ -1.60095051,  -5.22295443],\n",
       "        [ -5.22295443,  -1.61036824]],\n",
       "\n",
       "       [[ -1.58188936,  -5.26586217],\n",
       "        [ -5.26586217,  -1.59117009]],\n",
       "\n",
       "       [[ -1.56318321,  -5.30857699],\n",
       "        [ -5.30857699,  -1.57233032]],\n",
       "\n",
       "       [[ -1.54482342,  -5.35109908],\n",
       "        [ -5.35109908,  -1.5538402 ]],\n",
       "\n",
       "       [[ -1.52680163,  -5.39342869],\n",
       "        [ -5.39342869,  -1.53569127]],\n",
       "\n",
       "       [[ -1.50910971,  -5.43556609],\n",
       "        [ -5.43556609,  -1.51787534]],\n",
       "\n",
       "       [[ -1.49173978,  -5.47751162],\n",
       "        [ -5.47751162,  -1.50038441]],\n",
       "\n",
       "       [[ -1.47468417,  -5.51926564],\n",
       "        [ -5.51926564,  -1.48321077]],\n",
       "\n",
       "       [[ -1.45793545,  -5.56082856],\n",
       "        [ -5.56082856,  -1.4663469 ]],\n",
       "\n",
       "       [[ -1.4414864 ,  -5.60220082],\n",
       "        [ -5.60220082,  -1.4497855 ]],\n",
       "\n",
       "       [[ -1.42532999,  -5.6433829 ],\n",
       "        [ -5.6433829 ,  -1.43351949]],\n",
       "\n",
       "       [[ -1.40945942,  -5.6843753 ],\n",
       "        [ -5.6843753 ,  -1.417542  ]],\n",
       "\n",
       "       [[ -1.39386807,  -5.72517855],\n",
       "        [ -5.72517855,  -1.40184634]],\n",
       "\n",
       "       [[ -1.37854949,  -5.76579324],\n",
       "        [ -5.76579324,  -1.38642602]],\n",
       "\n",
       "       [[ -1.36349743,  -5.80621994],\n",
       "        [ -5.80621994,  -1.37127474]],\n",
       "\n",
       "       [[ -1.34870581,  -5.84645927],\n",
       "        [ -5.84645927,  -1.35638636]]])"
      ]
     },
     "execution_count": 13,
     "metadata": {},
     "output_type": "execute_result"
    }
   ],
   "source": [
    "ring_slot.s_db"
   ]
  },
  {
   "cell_type": "markdown",
   "metadata": {
    "slideshow": {
     "slide_type": "subslide"
    }
   },
   "source": [
    "Or the phase in degrees:"
   ]
  },
  {
   "cell_type": "code",
   "execution_count": 27,
   "metadata": {
    "slideshow": {
     "slide_type": "-"
    }
   },
   "outputs": [
    {
     "data": {
      "text/plain": [
       "array([[[ 137.73162735,   30.87488554],\n",
       "        [  30.87488554,  107.11053803]],\n",
       "\n",
       "       [[ 137.3282022 ,   30.34598329],\n",
       "        [  30.34598329,  106.49583731]],\n",
       "\n",
       "       [[ 136.92136778,   29.81041539],\n",
       "        [  29.81041539,  105.8725517 ]],\n",
       "\n",
       "       [[ 136.51123044,   29.26812641],\n",
       "        [  29.26812641,  105.24052962]],\n",
       "\n",
       "       [[ 136.09791018,   28.71906373],\n",
       "        [  28.71906373,  104.5996157 ]],\n",
       "\n",
       "       [[ 135.68154183,   28.16317769],\n",
       "        [  28.16317769,  103.94965042]],\n",
       "\n",
       "       [[ 135.26227634,   27.60042191],\n",
       "        [  27.60042191,  103.29046974]],\n",
       "\n",
       "       [[ 134.8402821 ,   27.03075347],\n",
       "        [  27.03075347,  102.62190465]],\n",
       "\n",
       "       [[ 134.41574651,   26.4541332 ],\n",
       "        [  26.4541332 ,  101.94378063]],\n",
       "\n",
       "       [[ 133.98887758,   25.87052595],\n",
       "        [  25.87052595,  101.25591704]],\n",
       "\n",
       "       [[ 133.55990579,   25.2799008 ],\n",
       "        [  25.2799008 ,  100.55812649]],\n",
       "\n",
       "       [[ 133.12908603,   24.6822314 ],\n",
       "        [  24.6822314 ,   99.85021395]],\n",
       "\n",
       "       [[ 132.69669987,   24.07749619],\n",
       "        [  24.07749619,   99.13197591]],\n",
       "\n",
       "       [[ 132.26305789,   23.46567875],\n",
       "        [  23.46567875,   98.40319929]],\n",
       "\n",
       "       [[ 131.82850248,   22.846768  ],\n",
       "        [  22.846768  ,   97.66366021]],\n",
       "\n",
       "       [[ 131.39341071,   22.22075856],\n",
       "        [  22.22075856,   96.91312259]],\n",
       "\n",
       "       [[ 130.95819774,   21.587651  ],\n",
       "        [  21.587651  ,   96.15133656]],\n",
       "\n",
       "       [[ 130.52332045,   20.94745216],\n",
       "        [  20.94745216,   95.37803655]],\n",
       "\n",
       "       [[ 130.08928164,   20.30017541],\n",
       "        [  20.30017541,   94.59293915]],\n",
       "\n",
       "       [[ 129.65663465,   19.64584096],\n",
       "        [  19.64584096,   93.79574061]],\n",
       "\n",
       "       [[ 129.22598858,   18.98447612],\n",
       "        [  18.98447612,   92.98611394]],\n",
       "\n",
       "       [[ 128.79801423,   18.31611561],\n",
       "        [  18.31611561,   92.16370559]],\n",
       "\n",
       "       [[ 128.3734508 ,   17.6408018 ],\n",
       "        [  17.6408018 ,   91.32813153]],\n",
       "\n",
       "       [[ 127.95311344,   16.95858501],\n",
       "        [  16.95858501,   90.47897275]],\n",
       "\n",
       "       [[ 127.53790201,   16.26952372],\n",
       "        [  16.26952372,   89.61577001]],\n",
       "\n",
       "       [[ 127.12881097,   15.57368485],\n",
       "        [  15.57368485,   88.73801764]],\n",
       "\n",
       "       [[ 126.72694082,   14.87114394],\n",
       "        [  14.87114394,   87.84515639]],\n",
       "\n",
       "       [[ 126.33351125,   14.16198543],\n",
       "        [  14.16198543,   86.93656498]],\n",
       "\n",
       "       [[ 125.94987642,   13.44630278],\n",
       "        [  13.44630278,   86.01155011]],\n",
       "\n",
       "       [[ 125.57754265,   12.72419868],\n",
       "        [  12.72419868,   85.06933478]],\n",
       "\n",
       "       [[ 125.21818912,   11.99578519],\n",
       "        [  11.99578519,   84.10904429]],\n",
       "\n",
       "       [[ 124.87369213,   11.26118386],\n",
       "        [  11.26118386,   83.12968971]],\n",
       "\n",
       "       [[ 124.5461536 ,   10.52052584],\n",
       "        [  10.52052584,   82.13014803]],\n",
       "\n",
       "       [[ 124.23793482,    9.77395193],\n",
       "        [   9.77395193,   81.1091384 ]],\n",
       "\n",
       "       [[ 123.95169649,    9.02161263],\n",
       "        [   9.02161263,   80.06519341]],\n",
       "\n",
       "       [[ 123.6904465 ,    8.26366815],\n",
       "        [   8.26366815,   78.99662423]],\n",
       "\n",
       "       [[ 123.45759721,    7.50028838],\n",
       "        [   7.50028838,   77.90147817]],\n",
       "\n",
       "       [[ 123.25703438,    6.7316528 ],\n",
       "        [   6.7316528 ,   76.77748645]],\n",
       "\n",
       "       [[ 123.09320066,    5.95795043],\n",
       "        [   5.95795043,   75.62199975]],\n",
       "\n",
       "       [[ 122.97119708,    5.17937964],\n",
       "        [   5.17937964,   74.43190792]],\n",
       "\n",
       "       [[ 122.89690708,    4.39614803],\n",
       "        [   4.39614803,   73.20353931]],\n",
       "\n",
       "       [[ 122.877149  ,    3.60847214],\n",
       "        [   3.60847214,   71.93253346]],\n",
       "\n",
       "       [[ 122.91986409,    2.81657728],\n",
       "        [   2.81657728,   70.61367861]],\n",
       "\n",
       "       [[ 123.03434993,    2.02069715],\n",
       "        [   2.02069715,   69.24070251]],\n",
       "\n",
       "       [[ 123.23155091,    1.22107358],\n",
       "        [   1.22107358,   67.80600021]],\n",
       "\n",
       "       [[ 123.52442157,    0.41795609],\n",
       "        [   0.41795609,   66.30027603]],\n",
       "\n",
       "       [[ 123.92838195,   -0.38839845],\n",
       "        [  -0.38839845,   64.71206723]],\n",
       "\n",
       "       [[ 124.46188902,   -1.19772635],\n",
       "        [  -1.19772635,   63.02710236]],\n",
       "\n",
       "       [[ 125.14715296,   -2.00975752],\n",
       "        [  -2.00975752,   61.22742548]],\n",
       "\n",
       "       [[ 126.0110304 ,   -2.824216  ],\n",
       "        [  -2.824216  ,   59.29018429]],\n",
       "\n",
       "       [[ 127.08612587,   -3.64082054],\n",
       "        [  -3.64082054,   57.1859289 ]],\n",
       "\n",
       "       [[ 128.41212065,   -4.45928514],\n",
       "        [  -4.45928514,   54.87618868]],\n",
       "\n",
       "       [[ 130.03731151,   -5.27931968],\n",
       "        [  -5.27931968,   52.3099719 ]],\n",
       "\n",
       "       [[ 132.02025295,   -6.10063052],\n",
       "        [  -6.10063052,   49.41864646]],\n",
       "\n",
       "       [[ 134.43120727,   -6.92292115],\n",
       "        [  -6.92292115,   46.10839203]],\n",
       "\n",
       "       [[ 137.35273383,   -7.74589289],\n",
       "        [  -7.74589289,   42.24908605]],\n",
       "\n",
       "       [[ 140.8780827 ,   -8.56924552],\n",
       "        [  -8.56924552,   37.65829768]],\n",
       "\n",
       "       [[ 145.10502731,   -9.39267795],\n",
       "        [  -9.39267795,   32.07986244]],\n",
       "\n",
       "       [[ 150.12160084,  -10.21588897],\n",
       "        [ -10.21588897,   25.16118866]],\n",
       "\n",
       "       [[ 155.98001222,  -11.03857789],\n",
       "        [ -11.03857789,   16.4501766 ]],\n",
       "\n",
       "       [[ 162.65852162,  -11.86044522],\n",
       "        [ -11.86044522,    5.47653594]],\n",
       "\n",
       "       [[ 170.02148   ,  -12.68119339],\n",
       "        [ -12.68119339,   -7.95780948]],\n",
       "\n",
       "       [[ 177.80248164,  -13.50052737],\n",
       "        [ -13.50052737,  -23.26087424]],\n",
       "\n",
       "       [[-174.36189042,  -14.31815536],\n",
       "        [ -14.31815536,  -38.84759848]],\n",
       "\n",
       "       [[-166.84835131,  -15.1337894 ],\n",
       "        [ -15.1337894 ,  -52.95040648]],\n",
       "\n",
       "       [[-159.95564357,  -15.94714601],\n",
       "        [ -15.94714601,  -64.66002817]],\n",
       "\n",
       "       [[-153.85519717,  -16.75794674],\n",
       "        [ -16.75794674,  -73.99453826]],\n",
       "\n",
       "       [[-148.59632268,  -17.56591877],\n",
       "        [ -17.56591877,  -81.38589641]],\n",
       "\n",
       "       [[-144.14286719,  -18.37079543],\n",
       "        [ -18.37079543,  -87.30699615]],\n",
       "\n",
       "       [[-140.41347194,  -19.17231668],\n",
       "        [ -19.17231668,  -92.14208667]],\n",
       "\n",
       "       [[-137.31121685,  -19.97022959],\n",
       "        [ -19.97022959,  -96.17422725]],\n",
       "\n",
       "       [[-134.74079177,  -20.7642888 ],\n",
       "        [ -20.7642888 ,  -99.60560527]],\n",
       "\n",
       "       [[-132.61648179,  -21.55425684],\n",
       "        [ -21.55425684, -102.58019573]],\n",
       "\n",
       "       [[-130.86473257,  -22.33990455],\n",
       "        [ -22.33990455, -105.20143575]],\n",
       "\n",
       "       [[-129.42399098,  -23.12101135],\n",
       "        [ -23.12101135, -107.54467364]],\n",
       "\n",
       "       [[-128.24340151,  -23.89736554],\n",
       "        [ -23.89736554, -109.66565416]],\n",
       "\n",
       "       [[-127.28117528,  -24.66876453],\n",
       "        [ -24.66876453, -111.60626812]],\n",
       "\n",
       "       [[-126.50300642,  -25.43501501],\n",
       "        [ -25.43501501, -113.3984715 ]],\n",
       "\n",
       "       [[-125.88068131,  -26.19593315],\n",
       "        [ -26.19593315, -115.06698774]],\n",
       "\n",
       "       [[-125.3909155 ,  -26.95134466],\n",
       "        [ -26.95134466, -116.63119645]],\n",
       "\n",
       "       [[-125.01440612,  -27.70108493],\n",
       "        [ -27.70108493, -118.10647296]],\n",
       "\n",
       "       [[-124.73507006,  -28.44499903],\n",
       "        [ -28.44499903, -119.50515204]],\n",
       "\n",
       "       [[-124.53943562,  -29.18294175],\n",
       "        [ -29.18294175, -120.83723099]],\n",
       "\n",
       "       [[-124.41615752,  -29.91477754],\n",
       "        [ -29.91477754, -122.11088954]],\n",
       "\n",
       "       [[-124.35563023,  -30.64038048],\n",
       "        [ -30.64038048, -123.33287896]],\n",
       "\n",
       "       [[-124.34967875,  -31.35963422],\n",
       "        [ -31.35963422, -124.50881691]],\n",
       "\n",
       "       [[-124.3913106 ,  -32.0724318 ],\n",
       "        [ -32.0724318 , -125.64341321]],\n",
       "\n",
       "       [[-124.47451597,  -32.77867558],\n",
       "        [ -32.77867558, -126.74064455]],\n",
       "\n",
       "       [[-124.59410601,  -33.47827704],\n",
       "        [ -33.47827704, -127.80389097]],\n",
       "\n",
       "       [[-124.74558126,  -34.17115661],\n",
       "        [ -34.17115661, -128.83604342]],\n",
       "\n",
       "       [[-124.9250242 ,  -34.85724346],\n",
       "        [ -34.85724346, -129.83958931]],\n",
       "\n",
       "       [[-125.12901083,  -35.53647529],\n",
       "        [ -35.53647529, -130.81668095]],\n",
       "\n",
       "       [[-125.35453782,  -36.20879811],\n",
       "        [ -36.20879811, -131.76919083]],\n",
       "\n",
       "       [[-125.59896201,  -36.87416594],\n",
       "        [ -36.87416594, -132.6987565 ]],\n",
       "\n",
       "       [[-125.8599499 ,  -37.53254063],\n",
       "        [ -37.53254063, -133.60681728]],\n",
       "\n",
       "       [[-126.1354355 ,  -38.18389152],\n",
       "        [ -38.18389152, -134.4946444 ]],\n",
       "\n",
       "       [[-126.4235847 ,  -38.82819519],\n",
       "        [ -38.82819519, -135.36336596]],\n",
       "\n",
       "       [[-126.72276528,  -39.46543519],\n",
       "        [ -39.46543519, -136.21398767]],\n",
       "\n",
       "       [[-127.03152138,  -40.09560176],\n",
       "        [ -40.09560176, -137.04741013]],\n",
       "\n",
       "       [[-127.34855177,  -40.7186915 ],\n",
       "        [ -40.7186915 , -137.86444342]],\n",
       "\n",
       "       [[-127.67269124,  -41.33470711],\n",
       "        [ -41.33470711, -138.66581926]],\n",
       "\n",
       "       [[-128.00289462,  -41.94365711],\n",
       "        [ -41.94365711, -139.4522014 ]],\n",
       "\n",
       "       [[-128.33822299,  -42.54555553],\n",
       "        [ -42.54555553, -140.22419442]],\n",
       "\n",
       "       [[-128.67783175,  -43.14042162],\n",
       "        [ -43.14042162, -140.98235116]],\n",
       "\n",
       "       [[-129.02096023,  -43.72827959],\n",
       "        [ -43.72827959, -141.72717919]],\n",
       "\n",
       "       [[-129.36692272,  -44.3091583 ],\n",
       "        [ -44.3091583 , -142.45914623]],\n",
       "\n",
       "       [[-129.71510048,  -44.88309101],\n",
       "        [ -44.88309101, -143.1786849 ]],\n",
       "\n",
       "       [[-130.06493487,  -45.4501151 ],\n",
       "        [ -45.4501151 , -143.88619677]],\n",
       "\n",
       "       [[-130.41592125,  -46.01027181],\n",
       "        [ -46.01027181, -144.58205591]],\n",
       "\n",
       "       [[-130.76760357,  -46.56360598],\n",
       "        [ -46.56360598, -145.26661187]],\n",
       "\n",
       "       [[-131.11956961,  -47.11016579],\n",
       "        [ -47.11016579, -145.94019241]],\n",
       "\n",
       "       [[-131.47144679,  -47.65000257],\n",
       "        [ -47.65000257, -146.60310571]],\n",
       "\n",
       "       [[-131.82289837,  -48.18317047],\n",
       "        [ -48.18317047, -147.25564247]],\n",
       "\n",
       "       [[-132.17362011,  -48.70972635],\n",
       "        [ -48.70972635, -147.8980776 ]],\n",
       "\n",
       "       [[-132.52333729,  -49.22972946],\n",
       "        [ -49.22972946, -148.53067179]],\n",
       "\n",
       "       [[-132.87180199,  -49.7432413 ],\n",
       "        [ -49.7432413 , -149.15367284]],\n",
       "\n",
       "       [[-133.2187907 ,  -50.25032539],\n",
       "        [ -50.25032539, -149.76731688]],\n",
       "\n",
       "       [[-133.56410215,  -50.75104708],\n",
       "        [ -50.75104708, -150.37182938]],\n",
       "\n",
       "       [[-133.90755537,  -51.24547336],\n",
       "        [ -51.24547336, -150.96742609]],\n",
       "\n",
       "       [[-134.24898786,  -51.73367272],\n",
       "        [ -51.73367272, -151.55431387]],\n",
       "\n",
       "       [[-134.58825407,  -52.21571494],\n",
       "        [ -52.21571494, -152.13269136]],\n",
       "\n",
       "       [[-134.9252239 ,  -52.69167094],\n",
       "        [ -52.69167094, -152.70274969]],\n",
       "\n",
       "       [[-135.2597814 ,  -53.16161266],\n",
       "        [ -53.16161266, -153.264673  ]],\n",
       "\n",
       "       [[-135.59182356,  -53.62561288],\n",
       "        [ -53.62561288, -153.81863897]],\n",
       "\n",
       "       [[-135.92125926,  -54.08374511],\n",
       "        [ -54.08374511, -154.36481926]],\n",
       "\n",
       "       [[-136.24800821,  -54.53608345],\n",
       "        [ -54.53608345, -154.90337991]],\n",
       "\n",
       "       [[-136.57200013,  -54.98270246],\n",
       "        [ -54.98270246, -155.43448173]],\n",
       "\n",
       "       [[-136.89317382,  -55.42367708],\n",
       "        [ -55.42367708, -155.9582806 ]],\n",
       "\n",
       "       [[-137.21147649,  -55.85908249],\n",
       "        [ -55.85908249, -156.47492777]],\n",
       "\n",
       "       [[-137.52686303,  -56.28899404],\n",
       "        [ -56.28899404, -156.98457011]],\n",
       "\n",
       "       [[-137.83929534,  -56.71348711],\n",
       "        [ -56.71348711, -157.48735036]],\n",
       "\n",
       "       [[-138.14874183,  -57.13263709],\n",
       "        [ -57.13263709, -157.98340738]],\n",
       "\n",
       "       [[-138.45517678,  -57.54651923],\n",
       "        [ -57.54651923, -158.47287626]],\n",
       "\n",
       "       [[-138.75857993,  -57.95520862],\n",
       "        [ -57.95520862, -158.95588857]],\n",
       "\n",
       "       [[-139.05893599,  -58.35878008],\n",
       "        [ -58.35878008, -159.43257252]],\n",
       "\n",
       "       [[-139.35623421,  -58.75730812],\n",
       "        [ -58.75730812, -159.90305305]],\n",
       "\n",
       "       [[-139.65046803,  -59.15086687],\n",
       "        [ -59.15086687, -160.36745203]],\n",
       "\n",
       "       [[-139.9416347 ,  -59.53953001],\n",
       "        [ -59.53953001, -160.82588836]],\n",
       "\n",
       "       [[-140.22973495,  -59.92337075],\n",
       "        [ -59.92337075, -161.27847805]],\n",
       "\n",
       "       [[-140.51477271,  -60.30246176],\n",
       "        [ -60.30246176, -161.72533441]],\n",
       "\n",
       "       [[-140.79675481,  -60.67687514],\n",
       "        [ -60.67687514, -162.16656806]],\n",
       "\n",
       "       [[-141.07569075,  -61.04668236],\n",
       "        [ -61.04668236, -162.60228708]],\n",
       "\n",
       "       [[-141.35159242,  -61.41195426],\n",
       "        [ -61.41195426, -163.03259706]],\n",
       "\n",
       "       [[-141.62447391,  -61.77276096],\n",
       "        [ -61.77276096, -163.45760122]],\n",
       "\n",
       "       [[-141.89435133,  -62.1291719 ],\n",
       "        [ -62.1291719 , -163.87740044]],\n",
       "\n",
       "       [[-142.16124256,  -62.48125578],\n",
       "        [ -62.48125578, -164.29209336]],\n",
       "\n",
       "       [[-142.42516713,  -62.82908051],\n",
       "        [ -62.82908051, -164.70177644]],\n",
       "\n",
       "       [[-142.68614604,  -63.17271325],\n",
       "        [ -63.17271325, -165.106544  ]],\n",
       "\n",
       "       [[-142.94420162,  -63.51222033],\n",
       "        [ -63.51222033, -165.50648833]],\n",
       "\n",
       "       [[-143.19935739,  -63.84766729],\n",
       "        [ -63.84766729, -165.9016997 ]],\n",
       "\n",
       "       [[-143.45163791,  -64.17911881],\n",
       "        [ -64.17911881, -166.29226643]],\n",
       "\n",
       "       [[-143.7010687 ,  -64.50663877],\n",
       "        [ -64.50663877, -166.67827494]],\n",
       "\n",
       "       [[-143.94767614,  -64.83029014],\n",
       "        [ -64.83029014, -167.05980981]],\n",
       "\n",
       "       [[-144.1914873 ,  -65.15013509],\n",
       "        [ -65.15013509, -167.43695382]],\n",
       "\n",
       "       [[-144.43252993,  -65.46623489],\n",
       "        [ -65.46623489, -167.80978796]],\n",
       "\n",
       "       [[-144.67083233,  -65.77864994],\n",
       "        [ -65.77864994, -168.17839155]],\n",
       "\n",
       "       [[-144.90642328,  -66.08743979],\n",
       "        [ -66.08743979, -168.54284221]],\n",
       "\n",
       "       [[-145.13933198,  -66.39266309],\n",
       "        [ -66.39266309, -168.90321593]],\n",
       "\n",
       "       [[-145.36958795,  -66.69437763],\n",
       "        [ -66.69437763, -169.25958712]],\n",
       "\n",
       "       [[-145.59722101,  -66.99264031],\n",
       "        [ -66.99264031, -169.61202861]],\n",
       "\n",
       "       [[-145.82226121,  -67.28750718],\n",
       "        [ -67.28750718, -169.96061174]],\n",
       "\n",
       "       [[-146.04473875,  -67.57903339],\n",
       "        [ -67.57903339, -170.30540634]],\n",
       "\n",
       "       [[-146.26468396,  -67.86727326],\n",
       "        [ -67.86727326, -170.64648081]],\n",
       "\n",
       "       [[-146.48212726,  -68.15228021],\n",
       "        [ -68.15228021, -170.98390211]],\n",
       "\n",
       "       [[-146.69709909,  -68.43410683],\n",
       "        [ -68.43410683, -171.31773584]],\n",
       "\n",
       "       [[-146.90962992,  -68.71280485],\n",
       "        [ -68.71280485, -171.64804624]],\n",
       "\n",
       "       [[-147.11975016,  -68.98842514],\n",
       "        [ -68.98842514, -171.9748962 ]],\n",
       "\n",
       "       [[-147.32749016,  -69.26101775],\n",
       "        [ -69.26101775, -172.29834735]],\n",
       "\n",
       "       [[-147.53288018,  -69.53063189],\n",
       "        [ -69.53063189, -172.61846005]],\n",
       "\n",
       "       [[-147.73595037,  -69.79731596],\n",
       "        [ -69.79731596, -172.93529341]],\n",
       "\n",
       "       [[-147.93673073,  -70.06111754],\n",
       "        [ -70.06111754, -173.24890535]],\n",
       "\n",
       "       [[-148.13525108,  -70.32208339],\n",
       "        [ -70.32208339, -173.55935259]],\n",
       "\n",
       "       [[-148.33154108,  -70.58025948],\n",
       "        [ -70.58025948, -173.86669069]],\n",
       "\n",
       "       [[-148.52563017,  -70.83569102],\n",
       "        [ -70.83569102, -174.17097412]],\n",
       "\n",
       "       [[-148.71754758,  -71.08842241],\n",
       "        [ -71.08842241, -174.47225619]],\n",
       "\n",
       "       [[-148.9073223 ,  -71.33849729],\n",
       "        [ -71.33849729, -174.77058917]],\n",
       "\n",
       "       [[-149.09498307,  -71.58595855],\n",
       "        [ -71.58595855, -175.06602426]],\n",
       "\n",
       "       [[-149.28055838,  -71.83084833],\n",
       "        [ -71.83084833, -175.35861162]],\n",
       "\n",
       "       [[-149.46407644,  -72.07320803],\n",
       "        [ -72.07320803, -175.64840041]],\n",
       "\n",
       "       [[-149.6455652 ,  -72.31307834],\n",
       "        [ -72.31307834, -175.93543879]],\n",
       "\n",
       "       [[-149.82505231,  -72.55049921],\n",
       "        [ -72.55049921, -176.21977396]],\n",
       "\n",
       "       [[-150.00256512,  -72.7855099 ],\n",
       "        [ -72.7855099 , -176.50145216]],\n",
       "\n",
       "       [[-150.17813069,  -73.01814897],\n",
       "        [ -73.01814897, -176.78051874]],\n",
       "\n",
       "       [[-150.35177577,  -73.24845431],\n",
       "        [ -73.24845431, -177.05701811]],\n",
       "\n",
       "       [[-150.52352681,  -73.47646312],\n",
       "        [ -73.47646312, -177.3309938 ]],\n",
       "\n",
       "       [[-150.69340992,  -73.70221195],\n",
       "        [ -73.70221195, -177.60248849]],\n",
       "\n",
       "       [[-150.86145091,  -73.92573669],\n",
       "        [ -73.92573669, -177.871544  ]],\n",
       "\n",
       "       [[-151.02767528,  -74.1470726 ],\n",
       "        [ -74.1470726 , -178.13820132]],\n",
       "\n",
       "       [[-151.19210818,  -74.3662543 ],\n",
       "        [ -74.3662543 , -178.40250063]],\n",
       "\n",
       "       [[-151.35477447,  -74.5833158 ],\n",
       "        [ -74.5833158 , -178.66448134]],\n",
       "\n",
       "       [[-151.51569865,  -74.79829049],\n",
       "        [ -74.79829049, -178.92418204]],\n",
       "\n",
       "       [[-151.67490492,  -75.01121118],\n",
       "        [ -75.01121118, -179.1816406 ]],\n",
       "\n",
       "       [[-151.83241715,  -75.22211007],\n",
       "        [ -75.22211007, -179.43689413]],\n",
       "\n",
       "       [[-151.98825888,  -75.43101881],\n",
       "        [ -75.43101881, -179.68997902]],\n",
       "\n",
       "       [[-152.14245332,  -75.63796845],\n",
       "        [ -75.63796845, -179.94093094]],\n",
       "\n",
       "       [[-152.29502337,  -75.8429895 ],\n",
       "        [ -75.8429895 ,  179.81021513]],\n",
       "\n",
       "       [[-152.44599161,  -76.04611194],\n",
       "        [ -76.04611194,  179.56342488]],\n",
       "\n",
       "       [[-152.59538029,  -76.24736518],\n",
       "        [ -76.24736518,  179.31866468]],\n",
       "\n",
       "       [[-152.74321133,  -76.44677812],\n",
       "        [ -76.44677812,  179.07590155]],\n",
       "\n",
       "       [[-152.88950636,  -76.64437914],\n",
       "        [ -76.64437914,  178.83510314]],\n",
       "\n",
       "       [[-153.03428668,  -76.84019612],\n",
       "        [ -76.84019612,  178.59623772]]])"
      ]
     },
     "execution_count": 27,
     "metadata": {},
     "output_type": "execute_result"
    }
   ],
   "source": [
    "ring_slot.s_deg"
   ]
  },
  {
   "cell_type": "markdown",
   "metadata": {
    "slideshow": {
     "slide_type": "-"
    }
   },
   "source": [
    "Several other projections are available, please refer to the documentation for the complete list."
   ]
  },
  {
   "cell_type": "markdown",
   "metadata": {
    "slideshow": {
     "slide_type": "slide"
    }
   },
   "source": [
    "# Slicing\n",
    "\n",
    "You can slice the network parameters attribute, such as `Network.s`, any way you want:"
   ]
  },
  {
   "cell_type": "code",
   "execution_count": 28,
   "metadata": {
    "slideshow": {
     "slide_type": "-"
    }
   },
   "outputs": [
    {
     "data": {
      "text/plain": [
       "array([0.6134571 +0.36678139j, 0.6218194 +0.36403169j,\n",
       "       0.63024301+0.36109574j, 0.63872415+0.3579682j ,\n",
       "       0.64725874+0.35464377j, 0.65584238+0.35111711j,\n",
       "       0.66447037+0.34738295j, 0.6731377 +0.34343602j,\n",
       "       0.68183901+0.33927115j, 0.69056862+0.33488321j,\n",
       "       0.6993205 +0.3302672j ])"
      ]
     },
     "execution_count": 28,
     "metadata": {},
     "output_type": "execute_result"
    }
   ],
   "source": [
    "ring_slot.s[:11,1,0]  # get first 10 values of S21"
   ]
  },
  {
   "cell_type": "markdown",
   "metadata": {
    "slideshow": {
     "slide_type": "fragment"
    }
   },
   "source": [
    "Slicing by frequency can also be done directly on Network objects like so "
   ]
  },
  {
   "cell_type": "code",
   "execution_count": 14,
   "metadata": {
    "slideshow": {
     "slide_type": "-"
    }
   },
   "outputs": [
    {
     "data": {
      "text/plain": [
       "2-Port Network: 'ring slot_subset',  75.0-76.575 GHz, 10 pts, z0=[50.+0.j 50.+0.j]"
      ]
     },
     "execution_count": 14,
     "metadata": {},
     "output_type": "execute_result"
    }
   ],
   "source": [
    "ring_slot[0:10] #  Network for the first 10 frequency points"
   ]
  },
  {
   "cell_type": "markdown",
   "metadata": {
    "slideshow": {
     "slide_type": "subslide"
    }
   },
   "source": [
    "or  with a human friendly string,"
   ]
  },
  {
   "cell_type": "code",
   "execution_count": 30,
   "metadata": {
    "slideshow": {
     "slide_type": "-"
    }
   },
   "outputs": [
    {
     "data": {
      "text/plain": [
       "2-Port Network: 'ring slot',  80.075-90.05 GHz, 58 pts, z0=[50.+0.j 50.+0.j]"
      ]
     },
     "execution_count": 30,
     "metadata": {},
     "output_type": "execute_result"
    }
   ],
   "source": [
    "ring_slot['80-90ghz']"
   ]
  },
  {
   "cell_type": "markdown",
   "metadata": {
    "slideshow": {
     "slide_type": "subslide"
    }
   },
   "source": [
    "Notice that slicing directly on a Network **returns a Network**:"
   ]
  },
  {
   "cell_type": "markdown",
   "metadata": {
    "slideshow": {
     "slide_type": "fragment"
    }
   },
   "source": [
    "A nice way to express slicing in both dimensions is "
   ]
  },
  {
   "cell_type": "code",
   "execution_count": 31,
   "metadata": {
    "slideshow": {
     "slide_type": "-"
    }
   },
   "outputs": [
    {
     "data": {
      "text/plain": [
       "1-Port Network: 'ring slot',  80.075-90.05 GHz, 58 pts, z0=[50.+0.j]"
      ]
     },
     "execution_count": 31,
     "metadata": {},
     "output_type": "execute_result"
    }
   ],
   "source": [
    "ring_slot.s11['80-90ghz'] "
   ]
  },
  {
   "cell_type": "markdown",
   "metadata": {
    "slideshow": {
     "slide_type": "slide"
    }
   },
   "source": [
    "## Other Parameters\t\n",
    "\n",
    "This tutorial focuses on s-parameters, but other network representations are available as well. Impedance and Admittance Parameters can be accessed through the parameters `Network.z` and `Network.y`, respectively. Scalar components of complex parameters, such as  `Network.z_re`, `Network.z_im` and plotting methods are available as well.\n",
    "\n",
    "Other parameters are only available for 2-port networks, such as wave cascading parameters (`Network.t`), and  ABCD-parameters (`Network.a`)"
   ]
  },
  {
   "cell_type": "code",
   "execution_count": 15,
   "metadata": {
    "slideshow": {
     "slide_type": "-"
    }
   },
   "outputs": [
    {
     "data": {
      "text/plain": [
       "array([[[0.88442687+28.15350224j, 0.94703504+30.46757222j],\n",
       "        [0.94703504+30.46757222j, 1.0434417 +43.45766805j]],\n",
       "\n",
       "       [[0.91624901+28.72415928j, 0.98188607+31.09594438j],\n",
       "        [0.98188607+31.09594438j, 1.08168411+44.17642274j]],\n",
       "\n",
       "       [[0.94991736+29.31694632j, 1.01876516+31.74874257j],\n",
       "        [1.01876516+31.74874257j, 1.12215451+44.92215712j]]])"
      ]
     },
     "execution_count": 15,
     "metadata": {},
     "output_type": "execute_result"
    }
   ],
   "source": [
    "ring_slot.z[:3,...]"
   ]
  },
  {
   "cell_type": "code",
   "execution_count": 16,
   "metadata": {
    "slideshow": {
     "slide_type": "-"
    }
   },
   "outputs": [
    {
     "data": {
      "image/png": "[encoded data removed]",
      "text/plain": [
       "<Figure size 432x288 with 1 Axes>"
      ]
     },
     "metadata": {
      "needs_background": "light"
     },
     "output_type": "display_data"
    }
   ],
   "source": [
    "ring_slot.plot_z_im(m=1,n=0)  "
   ]
  },
  {
   "cell_type": "markdown",
   "metadata": {
    "slideshow": {
     "slide_type": "slide"
    }
   },
   "source": [
    "# Plotting \n",
    "\n",
    "Amongst other things, the methods of the Network class provide convenient ways to plot components of the network parameters, for example:\n",
    "\n",
    "* `Network.plot_s_db` : plot magnitude of s-parameters in log scale\n",
    "* `Network.plot_s_deg` : plot phase of s-parameters in degrees\n",
    "* `Network.plot_s_smith` : plot complex s-parameters on Smith Chart\n",
    "* ... many other are available"
   ]
  },
  {
   "cell_type": "markdown",
   "metadata": {
    "slideshow": {
     "slide_type": "fragment"
    }
   },
   "source": [
    "To plot all the four S-parameters in dB:"
   ]
  },
  {
   "cell_type": "code",
   "execution_count": 34,
   "metadata": {
    "slideshow": {
     "slide_type": "-"
    }
   },
   "outputs": [
    {
     "data": {
      "image/png": "[encoded data removed]",
      "text/plain": [
       "<Figure size 432x288 with 1 Axes>"
      ]
     },
     "metadata": {
      "needs_background": "light"
     },
     "output_type": "display_data"
    }
   ],
   "source": [
    "ring_slot.plot_s_db()"
   ]
  },
  {
   "cell_type": "markdown",
   "metadata": {
    "slideshow": {
     "slide_type": "subslide"
    }
   },
   "source": [
    "\t\n",
    "To plot all four s-parameters of the `ring_slot` on the Smith Chart."
   ]
  },
  {
   "cell_type": "code",
   "execution_count": 35,
   "metadata": {
    "slideshow": {
     "slide_type": "-"
    }
   },
   "outputs": [
    {
     "data": {
      "image/png": "[encoded data removed]",
      "text/plain": [
       "<Figure size 432x288 with 1 Axes>"
      ]
     },
     "metadata": {},
     "output_type": "display_data"
    }
   ],
   "source": [
    "ring_slot.plot_s_smith()"
   ]
  },
  {
   "cell_type": "markdown",
   "metadata": {
    "slideshow": {
     "slide_type": "subslide"
    }
   },
   "source": [
    "Combining this with the slicing features, "
   ]
  },
  {
   "cell_type": "code",
   "execution_count": 36,
   "metadata": {
    "scrolled": true,
    "slideshow": {
     "slide_type": "-"
    }
   },
   "outputs": [
    {
     "data": {
      "image/png": "[encoded data removed]",
      "text/plain": [
       "<Figure size 432x288 with 1 Axes>"
      ]
     },
     "metadata": {
      "needs_background": "light"
     },
     "output_type": "display_data"
    }
   ],
   "source": [
    "ring_slot.s11.plot_s_db(label='Full Band Response')\n",
    "ring_slot.s11['82-90ghz'].plot_s_db(lw=3, label='Band of Interest')"
   ]
  },
  {
   "cell_type": "markdown",
   "metadata": {
    "slideshow": {
     "slide_type": "slide"
    }
   },
   "source": [
    "# Arithmetic Operations \n",
    "Element-wise mathematical operations on the scattering parameter matrices are accessible through overloaded operators: `+`,`-`,`*`,`/`.\n",
    "\n",
    "To illustrate their usage, load a couple of Networks stored in the `data` module of the package:"
   ]
  },
  {
   "cell_type": "code",
   "execution_count": 17,
   "metadata": {
    "slideshow": {
     "slide_type": "-"
    }
   },
   "outputs": [],
   "source": [
    "from skrf.data import wr2p2_short as short \n",
    "from skrf.data import wr2p2_delayshort as delayshort "
   ]
  },
  {
   "cell_type": "code",
   "execution_count": 18,
   "metadata": {
    "slideshow": {
     "slide_type": "-"
    }
   },
   "outputs": [
    {
     "data": {
      "text/plain": [
       "1-Port Network: 'wr2p2,short',  330.0-500.0 GHz, 201 pts, z0=[50.+0.j]"
      ]
     },
     "execution_count": 18,
     "metadata": {},
     "output_type": "execute_result"
    }
   ],
   "source": [
    "short - delayshort"
   ]
  },
  {
   "cell_type": "code",
   "execution_count": 40,
   "metadata": {
    "slideshow": {
     "slide_type": "fragment"
    }
   },
   "outputs": [
    {
     "data": {
      "text/plain": [
       "1-Port Network: 'wr2p2,short',  330.0-500.0 GHz, 201 pts, z0=[50.+0.j]"
      ]
     },
     "execution_count": 40,
     "metadata": {},
     "output_type": "execute_result"
    }
   ],
   "source": [
    "short + delayshort"
   ]
  },
  {
   "cell_type": "code",
   "execution_count": 41,
   "metadata": {
    "slideshow": {
     "slide_type": "fragment"
    }
   },
   "outputs": [
    {
     "data": {
      "text/plain": [
       "1-Port Network: 'wr2p2,short',  330.0-500.0 GHz, 201 pts, z0=[50.+0.j]"
      ]
     },
     "execution_count": 41,
     "metadata": {},
     "output_type": "execute_result"
    }
   ],
   "source": [
    "short * delayshort"
   ]
  },
  {
   "cell_type": "code",
   "execution_count": 42,
   "metadata": {
    "slideshow": {
     "slide_type": "fragment"
    }
   },
   "outputs": [
    {
     "data": {
      "text/plain": [
       "1-Port Network: 'wr2p2,short',  330.0-500.0 GHz, 201 pts, z0=[50.+0.j]"
      ]
     },
     "execution_count": 42,
     "metadata": {},
     "output_type": "execute_result"
    }
   ],
   "source": [
    "short / delayshort"
   ]
  },
  {
   "cell_type": "markdown",
   "metadata": {
    "slideshow": {
     "slide_type": "subslide"
    }
   },
   "source": [
    "All of these operations return Network types.\n",
    "\n",
    "For example, to plot the complex difference  between  `short` and `delay_short`:"
   ]
  },
  {
   "cell_type": "code",
   "execution_count": 44,
   "metadata": {
    "slideshow": {
     "slide_type": "-"
    }
   },
   "outputs": [
    {
     "data": {
      "image/png": "[encoded data removed]",
      "text/plain": [
       "<Figure size 432x288 with 1 Axes>"
      ]
     },
     "metadata": {
      "needs_background": "light"
     },
     "output_type": "display_data"
    }
   ],
   "source": [
    "difference = (short - delayshort)\n",
    "difference.plot_s_mag(label='Mag of difference')"
   ]
  },
  {
   "cell_type": "markdown",
   "metadata": {
    "slideshow": {
     "slide_type": "subslide"
    }
   },
   "source": [
    "Another common application is calculating the phase difference using the division operator,"
   ]
  },
  {
   "cell_type": "code",
   "execution_count": 46,
   "metadata": {
    "slideshow": {
     "slide_type": "-"
    }
   },
   "outputs": [
    {
     "data": {
      "image/png": "[encoded data removed]",
      "text/plain": [
       "<Figure size 432x288 with 1 Axes>"
      ]
     },
     "metadata": {
      "needs_background": "light"
     },
     "output_type": "display_data"
    }
   ],
   "source": [
    "(delayshort/short).plot_s_deg(label='Detrended Phase')"
   ]
  },
  {
   "cell_type": "markdown",
   "metadata": {
    "slideshow": {
     "slide_type": "subslide"
    }
   },
   "source": [
    "Linear operators can also be used with scalars or an `numpy.ndarray` that is the same length as the Network:"
   ]
  },
  {
   "cell_type": "code",
   "execution_count": 47,
   "metadata": {
    "slideshow": {
     "slide_type": "-"
    }
   },
   "outputs": [
    {
     "data": {
      "text/plain": [
       "array([[[1.-0.j]],\n",
       "\n",
       "       [[1.-0.j]],\n",
       "\n",
       "       [[1.-0.j]]])"
      ]
     },
     "execution_count": 47,
     "metadata": {},
     "output_type": "execute_result"
    }
   ],
   "source": [
    "hopen = short * (-1)\n",
    "hopen.s[:3,...]"
   ]
  },
  {
   "cell_type": "code",
   "execution_count": 49,
   "metadata": {
    "slideshow": {
     "slide_type": "-"
    }
   },
   "outputs": [
    {
     "data": {
      "text/plain": [
       "array([[[0.44880433+0.j]],\n",
       "\n",
       "       [[0.70786409+0.j]],\n",
       "\n",
       "       [[0.57075618+0.j]]])"
      ]
     },
     "execution_count": 49,
     "metadata": {},
     "output_type": "execute_result"
    }
   ],
   "source": [
    "rando =  hopen * np.random.rand(len(hopen))\n",
    "rando.s[:3,...]"
   ]
  },
  {
   "cell_type": "markdown",
   "metadata": {
    "raw_mimetype": "text/restructuredtext",
    "slideshow": {
     "slide_type": "-"
    }
   },
   "source": [
    "**warning** : Note that if you multiply a Network by an `numpy.ndarray`  be sure to place the array on the right side."
   ]
  },
  {
   "cell_type": "markdown",
   "metadata": {
    "slideshow": {
     "slide_type": "slide"
    }
   },
   "source": [
    "## Comparison of Network\n",
    "Comparison operators also work with networks:"
   ]
  },
  {
   "cell_type": "code",
   "execution_count": 50,
   "metadata": {
    "slideshow": {
     "slide_type": "-"
    }
   },
   "outputs": [
    {
     "data": {
      "text/plain": [
       "False"
      ]
     },
     "execution_count": 50,
     "metadata": {},
     "output_type": "execute_result"
    }
   ],
   "source": [
    "short == delayshort"
   ]
  },
  {
   "cell_type": "code",
   "execution_count": null,
   "metadata": {
    "slideshow": {
     "slide_type": "fragment"
    }
   },
   "outputs": [],
   "source": [
    "short != delayshort"
   ]
  },
  {
   "cell_type": "markdown",
   "metadata": {
    "slideshow": {
     "slide_type": "slide"
    }
   },
   "source": [
    "# Cascading and De-embedding\n",
    "Cascading and de-embeding 2-port Networks can also be done through operators. The `cascade` function can be called through the Python power operator, `**`. To calculate a new network which is the cascaded connection of the two individual Networks `line` and `short`: "
   ]
  },
  {
   "cell_type": "code",
   "execution_count": 19,
   "metadata": {
    "slideshow": {
     "slide_type": "-"
    }
   },
   "outputs": [],
   "source": [
    "short = rf.data.wr2p2_short\n",
    "line = rf.data.wr2p2_line\n",
    "delayshort = line ** short"
   ]
  },
  {
   "cell_type": "markdown",
   "metadata": {
    "slideshow": {
     "slide_type": "-"
    }
   },
   "source": [
    "<img src=\"figures/cascading_delayshort.png\"/>"
   ]
  },
  {
   "cell_type": "markdown",
   "metadata": {
    "slideshow": {
     "slide_type": "subslide"
    }
   },
   "source": [
    "De-embedding  can be accomplished by cascading the *inverse* of a network. The inverse of a network is accessed through the property `Network.inv`. To de-embed the `short` from `delay_short`,"
   ]
  },
  {
   "cell_type": "code",
   "execution_count": 20,
   "metadata": {
    "slideshow": {
     "slide_type": "-"
    }
   },
   "outputs": [],
   "source": [
    "short_2 = line.inv ** delayshort"
   ]
  },
  {
   "cell_type": "markdown",
   "metadata": {
    "slideshow": {
     "slide_type": "-"
    }
   },
   "source": [
    "<img src=\"figures/deembedding_delayshort.png\"/>"
   ]
  },
  {
   "cell_type": "code",
   "execution_count": 55,
   "metadata": {
    "slideshow": {
     "slide_type": "fragment"
    }
   },
   "outputs": [
    {
     "data": {
      "text/plain": [
       "True"
      ]
     },
     "execution_count": 55,
     "metadata": {},
     "output_type": "execute_result"
    }
   ],
   "source": [
    "short_2 == short"
   ]
  },
  {
   "cell_type": "markdown",
   "metadata": {
    "slideshow": {
     "slide_type": "subslide"
    }
   },
   "source": [
    "The cascading operator also works for to 2N-port Networks, also known as *balanced Networks*. For example, assuming you want to cascade two 4-port Network `ntw1`, `ntw2`, you can use:\n",
    "\n",
    "`resulting_ntw = ntw1 ** ntw2`\n",
    "\n",
    "Note that the port scheme assumed by the `**` cascading operator with 2N-port networks is:\n",
    "<img src=\"figures/cascade_2Nport_2Nport.png\"/>"
   ]
  },
  {
   "cell_type": "markdown",
   "metadata": {
    "slideshow": {
     "slide_type": "slide"
    }
   },
   "source": [
    "## Connecting Multi-ports \n",
    "\n",
    "**skrf** supports the connection of arbitrary ports of N-port networks. It accomplishes this using an algorithm called *sub-network growth*,  available through the function `connect()`. \n",
    "\n",
    "As an example, terminating one port of an ideal 3-way splitter can be done like so,"
   ]
  },
  {
   "cell_type": "code",
   "execution_count": 56,
   "metadata": {
    "slideshow": {
     "slide_type": "-"
    }
   },
   "outputs": [
    {
     "data": {
      "text/plain": [
       "3-Port Network: 'tee',  330.0-500.0 GHz, 201 pts, z0=[50.+0.j 50.+0.j 50.+0.j]"
      ]
     },
     "execution_count": 56,
     "metadata": {},
     "output_type": "execute_result"
    }
   ],
   "source": [
    "tee = rf.data.tee\n",
    "tee"
   ]
  },
  {
   "cell_type": "markdown",
   "metadata": {
    "slideshow": {
     "slide_type": "fragment"
    }
   },
   "source": [
    "To connect port `1` of the tee, to port `0` of the delay short,"
   ]
  },
  {
   "cell_type": "code",
   "execution_count": 57,
   "metadata": {
    "slideshow": {
     "slide_type": "-"
    }
   },
   "outputs": [
    {
     "data": {
      "text/plain": [
       "2-Port Network: 'tee',  330.0-500.0 GHz, 201 pts, z0=[50.+0.j 50.+0.j]"
      ]
     },
     "execution_count": 57,
     "metadata": {},
     "output_type": "execute_result"
    }
   ],
   "source": [
    "terminated_tee = rf.connect(tee, 1, delayshort, 0)\n",
    "terminated_tee"
   ]
  },
  {
   "cell_type": "markdown",
   "metadata": {
    "slideshow": {
     "slide_type": "subslide"
    }
   },
   "source": [
    "Note that this function takes into account port impedances. If two connected ports have different port impedances,  an appropriate impedance mismatch is inserted. \n",
    "\n",
    "For advanced connections between many arbitrary N-port Networks, the `Circuit` object is more relevant since it allows defining explicitly the connections between ports and Networks. We will see the `Circuit` class later in this short course."
   ]
  },
  {
   "cell_type": "markdown",
   "metadata": {
    "slideshow": {
     "slide_type": "slide"
    }
   },
   "source": [
    "\t\n",
    "# Interpolation and Concatenation\n",
    "\n",
    "A common need is to change the number of frequency points of a [Network](../api/network.rst). To use the operators and cascading functions the networks involved must have matching frequencies, for instance. If two networks have different frequency information, then an error will be raised, "
   ]
  },
  {
   "cell_type": "code",
   "execution_count": 59,
   "metadata": {
    "slideshow": {
     "slide_type": "-"
    }
   },
   "outputs": [
    {
     "data": {
      "text/plain": [
       "2-Port Network: 'wr2p2,line1',  330.0-500.0 GHz, 101 pts, z0=[50.+0.j 50.+0.j]"
      ]
     },
     "execution_count": 59,
     "metadata": {},
     "output_type": "execute_result"
    }
   ],
   "source": [
    "from skrf.data import wr2p2_line1 as line1\n",
    "\n",
    "line1"
   ]
  },
  {
   "cell_type": "code",
   "execution_count": 60,
   "metadata": {
    "slideshow": {
     "slide_type": "-"
    }
   },
   "outputs": [
    {
     "ename": "IndexError",
     "evalue": "Networks must have same frequency. See `Network.interpolate`",
     "output_type": "error",
     "traceback": [
      "\u001b[1;31m---------------------------------------------------------------------------\u001b[0m",
      "\u001b[1;31mIndexError\u001b[0m                                Traceback (most recent call last)",
      "\u001b[1;32m~\\AppData\\Local\\Temp/ipykernel_2824/1843761962.py\u001b[0m in \u001b[0;36m<module>\u001b[1;34m\u001b[0m\n\u001b[1;32m----> 1\u001b[1;33m \u001b[0mline1\u001b[0m\u001b[1;33m+\u001b[0m\u001b[0mline\u001b[0m  \u001b[1;31m# will fail\u001b[0m\u001b[1;33m\u001b[0m\u001b[1;33m\u001b[0m\u001b[0m\n\u001b[0m",
      "\u001b[1;32m~\\Documents\\scikit-rf\\skrf\\network.py\u001b[0m in \u001b[0;36m__add__\u001b[1;34m(self, other)\u001b[0m\n\u001b[0;32m    631\u001b[0m \u001b[1;33m\u001b[0m\u001b[0m\n\u001b[0;32m    632\u001b[0m         \u001b[1;32mif\u001b[0m \u001b[0misinstance\u001b[0m\u001b[1;33m(\u001b[0m\u001b[0mother\u001b[0m\u001b[1;33m,\u001b[0m \u001b[0mNetwork\u001b[0m\u001b[1;33m)\u001b[0m\u001b[1;33m:\u001b[0m\u001b[1;33m\u001b[0m\u001b[1;33m\u001b[0m\u001b[0m\n\u001b[1;32m--> 633\u001b[1;33m             \u001b[0mself\u001b[0m\u001b[1;33m.\u001b[0m\u001b[0m__compatable_for_scalar_operation_test\u001b[0m\u001b[1;33m(\u001b[0m\u001b[0mother\u001b[0m\u001b[1;33m)\u001b[0m\u001b[1;33m\u001b[0m\u001b[1;33m\u001b[0m\u001b[0m\n\u001b[0m\u001b[0;32m    634\u001b[0m             \u001b[0mresult\u001b[0m\u001b[1;33m.\u001b[0m\u001b[0ms\u001b[0m \u001b[1;33m=\u001b[0m \u001b[0mself\u001b[0m\u001b[1;33m.\u001b[0m\u001b[0ms\u001b[0m \u001b[1;33m+\u001b[0m \u001b[0mother\u001b[0m\u001b[1;33m.\u001b[0m\u001b[0ms\u001b[0m\u001b[1;33m\u001b[0m\u001b[1;33m\u001b[0m\u001b[0m\n\u001b[0;32m    635\u001b[0m         \u001b[1;32melse\u001b[0m\u001b[1;33m:\u001b[0m\u001b[1;33m\u001b[0m\u001b[1;33m\u001b[0m\u001b[0m\n",
      "\u001b[1;32m~\\Documents\\scikit-rf\\skrf\\network.py\u001b[0m in \u001b[0;36m__compatable_for_scalar_operation_test\u001b[1;34m(self, other)\u001b[0m\n\u001b[0;32m    849\u001b[0m         \"\"\"\n\u001b[0;32m    850\u001b[0m         \u001b[1;32mif\u001b[0m \u001b[0mother\u001b[0m\u001b[1;33m.\u001b[0m\u001b[0mfrequency\u001b[0m \u001b[1;33m!=\u001b[0m \u001b[0mself\u001b[0m\u001b[1;33m.\u001b[0m\u001b[0mfrequency\u001b[0m\u001b[1;33m:\u001b[0m\u001b[1;33m\u001b[0m\u001b[1;33m\u001b[0m\u001b[0m\n\u001b[1;32m--> 851\u001b[1;33m             \u001b[1;32mraise\u001b[0m \u001b[0mIndexError\u001b[0m\u001b[1;33m(\u001b[0m\u001b[1;34m'Networks must have same frequency. See `Network.interpolate`'\u001b[0m\u001b[1;33m)\u001b[0m\u001b[1;33m\u001b[0m\u001b[1;33m\u001b[0m\u001b[0m\n\u001b[0m\u001b[0;32m    852\u001b[0m \u001b[1;33m\u001b[0m\u001b[0m\n\u001b[0;32m    853\u001b[0m         \u001b[1;32mif\u001b[0m \u001b[0mother\u001b[0m\u001b[1;33m.\u001b[0m\u001b[0ms\u001b[0m\u001b[1;33m.\u001b[0m\u001b[0mshape\u001b[0m \u001b[1;33m!=\u001b[0m \u001b[0mself\u001b[0m\u001b[1;33m.\u001b[0m\u001b[0ms\u001b[0m\u001b[1;33m.\u001b[0m\u001b[0mshape\u001b[0m\u001b[1;33m:\u001b[0m\u001b[1;33m\u001b[0m\u001b[1;33m\u001b[0m\u001b[0m\n",
      "\u001b[1;31mIndexError\u001b[0m: Networks must have same frequency. See `Network.interpolate`"
     ]
    }
   ],
   "source": [
    "line1+line  # will fail"
   ]
  },
  {
   "cell_type": "markdown",
   "metadata": {
    "slideshow": {
     "slide_type": "subslide"
    }
   },
   "source": [
    "This problem can be solved by interpolating one of Networks along the frequency axis using `Network.resample`. "
   ]
  },
  {
   "cell_type": "code",
   "execution_count": 62,
   "metadata": {
    "slideshow": {
     "slide_type": "-"
    }
   },
   "outputs": [
    {
     "data": {
      "text/plain": [
       "2-Port Network: 'wr2p2,line1',  330.0-500.0 GHz, 201 pts, z0=[50.+0.j 50.+0.j]"
      ]
     },
     "execution_count": 62,
     "metadata": {},
     "output_type": "execute_result"
    }
   ],
   "source": [
    "line1.resample(201)\n",
    "line1"
   ]
  },
  {
   "cell_type": "markdown",
   "metadata": {
    "slideshow": {
     "slide_type": "-"
    }
   },
   "source": [
    "And now we can do things"
   ]
  },
  {
   "cell_type": "code",
   "execution_count": 63,
   "metadata": {
    "slideshow": {
     "slide_type": "-"
    }
   },
   "outputs": [
    {
     "data": {
      "text/plain": [
       "2-Port Network: 'wr2p2,line1',  330.0-500.0 GHz, 201 pts, z0=[50.+0.j 50.+0.j]"
      ]
     },
     "execution_count": 63,
     "metadata": {},
     "output_type": "execute_result"
    }
   ],
   "source": [
    "line1 + line"
   ]
  },
  {
   "cell_type": "markdown",
   "metadata": {
    "slideshow": {
     "slide_type": "subslide"
    }
   },
   "source": [
    "You can also interpolate from a `Frequency` object. For example, "
   ]
  },
  {
   "cell_type": "code",
   "execution_count": 65,
   "metadata": {
    "slideshow": {
     "slide_type": "-"
    }
   },
   "outputs": [
    {
     "data": {
      "text/plain": [
       "2-Port Network: 'wr2p2,line',  330.0-500.0 GHz, 201 pts, z0=[50.+0.j 50.+0.j]"
      ]
     },
     "execution_count": 65,
     "metadata": {},
     "output_type": "execute_result"
    }
   ],
   "source": [
    "line.interpolate_from_f(line1.frequency)"
   ]
  },
  {
   "cell_type": "markdown",
   "metadata": {
    "slideshow": {
     "slide_type": "subslide"
    }
   },
   "source": [
    "A related application is the need to combine Networks which cover different frequency ranges. Two  Networks can be concatenated (aka *stitched*) together using `stitch`, which  concatenates networks along their frequency axis. To combine a WR-2.2 Network with a WR-1.5 Network, "
   ]
  },
  {
   "cell_type": "code",
   "execution_count": 68,
   "metadata": {
    "slideshow": {
     "slide_type": "-"
    }
   },
   "outputs": [
    {
     "name": "stdout",
     "output_type": "stream",
     "text": [
      "2-Port Network: 'wr2p2,line',  330.0-500.0 GHz, 201 pts, z0=[50.+0.j 50.+0.j]\n",
      "2-Port Network: 'wr1p5,line',  500.0-750.0 GHz, 201 pts, z0=[50.+0.j 50.+0.j]\n"
     ]
    }
   ],
   "source": [
    "from skrf.data import wr2p2_line, wr1p5_line\n",
    "print(wr2p2_line)\n",
    "print(wr1p5_line)"
   ]
  },
  {
   "cell_type": "code",
   "execution_count": null,
   "metadata": {
    "slideshow": {
     "slide_type": "-"
    }
   },
   "outputs": [],
   "source": [
    "big_line = rf.stitch(wr2p2_line, wr1p5_line)\n",
    "big_line"
   ]
  },
  {
   "cell_type": "markdown",
   "metadata": {
    "slideshow": {
     "slide_type": "slide"
    }
   },
   "source": [
    "# Reading and Writing \n",
    "**skrf** supports writing [touchstone file format](http://en.wikipedia.org/wiki/Touchstone_file). While reading is accomplished with the Network initializer as shown before, writing is accomplished the method  `Network.write_touchstone()`."
   ]
  },
  {
   "cell_type": "code",
   "execution_count": null,
   "metadata": {
    "slideshow": {
     "slide_type": "-"
    }
   },
   "outputs": [],
   "source": [
    "ring_slot.write_touchstone('test.s2p')"
   ]
  }
 ],
 "metadata": {
  "anaconda-cloud": {},
  "celltoolbar": "Slideshow",
  "kernelspec": {
   "display_name": "Python 3 (ipykernel)",
   "language": "python",
   "name": "python3"
  },
  "language_info": {
   "codemirror_mode": {
    "name": "ipython",
    "version": 3
   },
   "file_extension": ".py",
   "mimetype": "text/x-python",
   "name": "python",
   "nbconvert_exporter": "python",
   "pygments_lexer": "ipython3",
   "version": "3.9.7"
  }
 },
 "nbformat": 4,
 "nbformat_minor": 4
}
