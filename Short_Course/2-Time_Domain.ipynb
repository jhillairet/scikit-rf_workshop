{
 "cells": [
  {
   "cell_type": "markdown",
   "metadata": {
    "slideshow": {
     "slide_type": "slide"
    }
   },
   "source": [
    "# Time Domain   and Gating"
   ]
  },
  {
   "cell_type": "markdown",
   "metadata": {
    "slideshow": {
     "slide_type": "slide"
    }
   },
   "source": [
    "## Intro\n",
    "\n",
    "* This notebooks demonstrates how to use [scikit-rf](www.scikit-rf.org) for time-domain analysis and gating. \n",
    "* S-parameters are measured in the frequency domain, but can be analyzed in  time domain.\n",
    "* A major application of time-domain analysis is to use *gating* to isolate a single response in space.\n",
    "* WARNING: Gating is not de-embedding!\n",
    "\n",
    "\n",
    "More information about the details of time domain analysis see [1]. \n",
    "\n",
    "\n",
    "References\n",
    "\n",
    "* [1] Keysight - Time Domain Analysis Using a Network Analyzer - Application Note [pdf](https://www.keysight.com/us/en/assets/7018-01451/application-notes/5989-5723.pdf)"
   ]
  },
  {
   "cell_type": "markdown",
   "metadata": {
    "slideshow": {
     "slide_type": "slide"
    }
   },
   "source": [
    "## Quick Example\n",
    "\n",
    "<img src=\"figures/probe.svg\" width=\"600\">"
   ]
  },
  {
   "cell_type": "code",
   "execution_count": null,
   "metadata": {
    "slideshow": {
     "slide_type": "subslide"
    }
   },
   "outputs": [],
   "source": [
    "import skrf as rf \n",
    "%matplotlib inline\n",
    "rf.stylely()\n",
    "from pylab import * \n",
    "\n",
    "# load data for the waveguide to CPW probe\n",
    "probe = rf.Network('data/calibration/oneport_tiered_calibration/probe.s2p')\n",
    "s11 = probe.s11 \n",
    "s11.plot_s_db_time()"
   ]
  },
  {
   "cell_type": "code",
   "execution_count": null,
   "metadata": {
    "slideshow": {
     "slide_type": "subslide"
    }
   },
   "outputs": [],
   "source": [
    "#  time-gate the first largest reflection\n",
    "s11_gated = s11.time_gate(center=0, span=.2)\n",
    "s11_gated.name='gated probe'\n",
    "\n",
    "# plot frequency and time-domain s-parameters\n",
    "fig=figure(figsize=(8,3)) \n",
    "subplot(121)\n",
    "s11.plot_s_db();s11_gated.plot_s_db()\n",
    "title('Frequency Domain')\n",
    "\n",
    "subplot(122)\n",
    "s11.plot_s_db_time();s11_gated.plot_s_db_time()\n",
    "title('Time Domain')\n",
    "tight_layout()"
   ]
  },
  {
   "cell_type": "markdown",
   "metadata": {
    "slideshow": {
     "slide_type": "slide"
    }
   },
   "source": [
    "## Interpreting Time Domain\n",
    "\n"
   ]
  },
  {
   "cell_type": "code",
   "execution_count": null,
   "metadata": {
    "slideshow": {
     "slide_type": "fragment"
    }
   },
   "outputs": [],
   "source": [
    "# load data for the waveguide to CPW probe\n",
    "probe = rf.Network('data/calibration/oneport_tiered_calibration/probe.s2p')\n",
    "probe.plot_s_db()"
   ]
  },
  {
   "cell_type": "markdown",
   "metadata": {
    "slideshow": {
     "slide_type": "subslide"
    }
   },
   "source": [
    "* Note there are two  time-domain plotting functions in scikit-rf: \n",
    "\n",
    "    * `Network.plot_s_db_time()`  \n",
    "    * `Network.plot_s_time_db()`\n",
    "\n",
    "*  `plot_s_db_time()` employs windowing  to enhance impulse resolution. \n",
    "* Windowing will be discussed in a bit, but for now we just use `plot_s_db_time()`.\n",
    "* Plotting all four s-parameters of the probe in both frequency and time-domain."
   ]
  },
  {
   "cell_type": "code",
   "execution_count": null,
   "metadata": {
    "slideshow": {
     "slide_type": "subslide"
    }
   },
   "outputs": [],
   "source": [
    "# plot frequency and time-domain s-parameters\n",
    "figure(figsize=(8,3))\n",
    "subplot(121)\n",
    "probe.plot_s_db()\n",
    "title('Frequency Domain')  \n",
    "subplot(122)\n",
    "probe.plot_s_db_time()\n",
    "title('Time Domain')\n",
    "tight_layout()"
   ]
  },
  {
   "cell_type": "markdown",
   "metadata": {
    "slideshow": {
     "slide_type": "subslide"
    }
   },
   "source": [
    "### Port 1 \n",
    "Focusing on  the reflection coefficient from the waveguide port (s11), you can see there is an interference pattern present."
   ]
  },
  {
   "cell_type": "code",
   "execution_count": null,
   "metadata": {
    "slideshow": {
     "slide_type": "fragment"
    }
   },
   "outputs": [],
   "source": [
    "probe.plot_s_db(0,0)\n",
    "title('Reflection Coefficient From \\nWaveguide Port');"
   ]
  },
  {
   "cell_type": "markdown",
   "metadata": {
    "slideshow": {
     "slide_type": "subslide"
    }
   },
   "source": [
    "* This ripple is evidence of several discrete reflections. \n",
    "* Plotting s11 in the time-domain allows us to see where, or *when*, these reflections occur."
   ]
  },
  {
   "cell_type": "code",
   "execution_count": null,
   "metadata": {
    "slideshow": {
     "slide_type": "fragment"
    }
   },
   "outputs": [],
   "source": [
    "probe_s11 = probe.s11\n",
    "probe_s11.plot_s_db_time(0,0)\n",
    "title('Reflection Coefficient From \\nWaveguide Port, Time Domain')\n",
    "ylim(-100,0)"
   ]
  },
  {
   "cell_type": "code",
   "execution_count": null,
   "metadata": {
    "slideshow": {
     "slide_type": "subslide"
    }
   },
   "outputs": [],
   "source": [
    "fig"
   ]
  },
  {
   "cell_type": "markdown",
   "metadata": {
    "slideshow": {
     "slide_type": "fragment"
    }
   },
   "source": [
    "From this plot we can see two dominant reflections; \n",
    "\n",
    "* one at $t=0$ns (the test-port) \n",
    "* and another  at $t=.2$ ns (who knows?).\n",
    "\n",
    "Now to gating..\n"
   ]
  },
  {
   "cell_type": "markdown",
   "metadata": {
    "slideshow": {
     "slide_type": "slide"
    }
   },
   "source": [
    "## Gating The Reflection of Interest\n",
    "\n",
    "* To isolate the reflection from the waveguide port, we can use time-gating. \n",
    "* This can be done by using the method `Network.time_gate()`, \n",
    "   * provide it an appropriate center and span (in ns). \n",
    "* To see the effects of the gate, both the original and gated response are compared."
   ]
  },
  {
   "cell_type": "code",
   "execution_count": null,
   "metadata": {
    "slideshow": {
     "slide_type": "subslide"
    }
   },
   "outputs": [],
   "source": [
    "probe_s11_gated = probe_s11.time_gate(center=0, span=.2)\n",
    "probe_s11_gated.name='gated probe'\n",
    "\n",
    "s11.plot_s_db_time()\n",
    "s11_gated.plot_s_db_time()"
   ]
  },
  {
   "cell_type": "markdown",
   "metadata": {
    "slideshow": {
     "slide_type": "subslide"
    }
   },
   "source": [
    "Compare both responses in frequency domain to see the effect of the gate. "
   ]
  },
  {
   "cell_type": "code",
   "execution_count": null,
   "metadata": {
    "slideshow": {
     "slide_type": "fragment"
    }
   },
   "outputs": [],
   "source": [
    "s11.plot_s_db()\n",
    "s11_gated.plot_s_db()"
   ]
  },
  {
   "cell_type": "markdown",
   "metadata": {
    "slideshow": {
     "slide_type": "slide"
    }
   },
   "source": [
    "###  Auto-gate \n",
    "\n",
    "The time-gating method in `skrf` has an auto-gating feature which can also be used to gate the largest reflection. \n",
    "\n",
    "When no gate parameters are provided, `time_gate()` does the following: \n",
    "\n",
    "1. find the two largest peaks\n",
    "2. center the gate on the tallest peak\n",
    "3. set span to distance between two tallest peaks\n",
    "\n",
    "You may want to plot the gated network in time-domain to see what the determined gate shape looks like."
   ]
  },
  {
   "cell_type": "code",
   "execution_count": null,
   "metadata": {
    "slideshow": {
     "slide_type": "subslide"
    }
   },
   "outputs": [],
   "source": [
    "title('Waveguide Interface of Probe') \n",
    "s11.plot_s_db(label='original')\n",
    "s11.time_gate().plot_s_db(label='auto-gated') #autogate on the fly"
   ]
  },
  {
   "cell_type": "markdown",
   "metadata": {
    "slideshow": {
     "slide_type": "subslide"
    }
   },
   "source": [
    "Might see how the autogate does on the other probe interface, "
   ]
  },
  {
   "cell_type": "code",
   "execution_count": null,
   "metadata": {
    "slideshow": {
     "slide_type": "fragment"
    }
   },
   "outputs": [],
   "source": [
    "title('Other Interface of Probe') \n",
    "probe.s22.plot_s_db(label='Original')\n",
    "probe.s22.time_gate().plot_s_db(label='Gated')\n"
   ]
  },
  {
   "cell_type": "markdown",
   "metadata": {
    "slideshow": {
     "slide_type": "slide"
    }
   },
   "source": [
    "## Determining Distance\n",
    "\n",
    "* To make time-domain useful as a diagnostic tool, one would like to convert the x-axis to distance.\n",
    "* This requires knowledge of the propagation velocity in the device.  \n",
    "* **skrf** provides some transmission-line models in the module [skrf.media](http://scikit-rf.readthedocs.org/en/latest/reference/media/index.html), which  can be used for this.\n",
    "\n",
    "**However... DISCLAIMER**\n",
    "\n",
    "* For dispersive media, such as rectangular waveguide, the phase velocity is a function of frequency.\n",
    "* and transforming time to distance is not straightforward.\n",
    "* As an approximation, you can normalize the x-axis to the speed of light.\n",
    "* Alternatively, you can simulate the a known device and compare the two time domain responses.\n",
    "* This allows you to attribute quantitative meaning to the axes. \n",
    "\n",
    "Example\n"
   ]
  },
  {
   "cell_type": "code",
   "execution_count": null,
   "metadata": {
    "slideshow": {
     "slide_type": "slide"
    }
   },
   "outputs": [],
   "source": [
    "from skrf.media import RectangularWaveguide\n",
    "\n",
    "# create a rectangular waveguide media to generate a theoretical network\n",
    "wr1p5 = RectangularWaveguide(frequency=probe.frequency, a=15*rf.mil,z0=1) \n",
    "\n",
    "# adjust  an ideal delayed load until agreement\n",
    "G = -27\n",
    "kw = dict(d=2.4, unit='cm',Gamma0=rf.db_2_mag(G))\n",
    "theory = wr1p5.delay_load(**kw)\n",
    "probe.s22.plot_s_db_time(label = 'S22 Measurement')\n",
    "theory.plot_s_db_time(label='{G}dB @{d}{unit} from test-port'.format(**kw,G=G))\n",
    "ylim(-100,0);\n",
    "fig=gcf()"
   ]
  },
  {
   "cell_type": "code",
   "execution_count": null,
   "metadata": {
    "slideshow": {
     "slide_type": "subslide"
    }
   },
   "outputs": [],
   "source": [
    "fig"
   ]
  },
  {
   "cell_type": "markdown",
   "metadata": {
    "slideshow": {
     "slide_type": "fragment"
    }
   },
   "source": [
    "This plot demonstrates a few important points:\n",
    "\n",
    "* the theoretical delayed load is not a perfect impulse in time. This is due to the dispersion in waveguide. \n",
    "* the peak of the magnitude in time domain is not identical to that specified, also due to dispersion (and windowing).\n",
    "\n",
    " "
   ]
  },
  {
   "cell_type": "markdown",
   "metadata": {
    "slideshow": {
     "slide_type": "slide"
    }
   },
   "source": [
    "## What the hell is Windowing?\n",
    "\n",
    "The `'plot_s_db_time()'` function does a few things. \n",
    "\n",
    "1. windows the s-parameters. \n",
    "2.  converts to time domain  \n",
    "3. takes magnitude component, convert to dB\n",
    "4. calculates time-axis s\n",
    "5. plots"
   ]
  },
  {
   "cell_type": "markdown",
   "metadata": {
    "slideshow": {
     "slide_type": "subslide"
    }
   },
   "source": [
    "### windowing\n",
    "* A FFT represents a signal with a basis of periodic signals (sinusoids).  \n",
    "* If your frequency response is not periodic, a FFT  will introduces artifacts in the time-domain results. \n",
    "* To minimize these effects, the frequency response is *windowed*. \n",
    "* This makes the frequency response more periodic by tapering off the band-edges. \n",
    "* Windowing is just applied to improve the plot appearance, it does not affect the original network.\n",
    "\n",
    "In skrf this can be done explicitly using the `'windowed()'` function.  \n",
    "By default this function uses the hamming window, but can be adjusted through arguments. "
   ]
  },
  {
   "cell_type": "code",
   "execution_count": null,
   "metadata": {
    "slideshow": {
     "slide_type": "subslide"
    }
   },
   "outputs": [],
   "source": [
    "probe_w = probe.windowed()\n",
    "probe.plot_s_db(0,0, label = 'Original')\n",
    "probe_w.plot_s_db(0,0, label = 'Windowed')\n"
   ]
  },
  {
   "cell_type": "markdown",
   "metadata": {
    "slideshow": {
     "slide_type": "subslide"
    }
   },
   "source": [
    "Comparing the two time-domain plotting functions, we can see the difference between windowed  and not. "
   ]
  },
  {
   "cell_type": "code",
   "execution_count": null,
   "metadata": {
    "slideshow": {
     "slide_type": "fragment"
    }
   },
   "outputs": [],
   "source": [
    "probe.plot_s_time_db(0,0, label = 'Original')\n",
    "probe_w.plot_s_time_db(0,0, label = 'Windowed')"
   ]
  }
 ],
 "metadata": {
  "anaconda-cloud": {},
  "celltoolbar": "Slideshow",
  "kernelspec": {
   "display_name": "Python 3 (ipykernel)",
   "language": "python",
   "name": "python3"
  },
  "language_info": {
   "codemirror_mode": {
    "name": "ipython",
    "version": 3
   },
   "file_extension": ".py",
   "mimetype": "text/x-python",
   "name": "python",
   "nbconvert_exporter": "python",
   "pygments_lexer": "ipython3",
   "version": "3.9.5"
  },
  "toc": {
   "base_numbering": 1,
   "nav_menu": {},
   "number_sections": true,
   "sideBar": true,
   "skip_h1_title": false,
   "title_cell": "Table of Contents",
   "title_sidebar": "Contents",
   "toc_cell": false,
   "toc_position": {},
   "toc_section_display": "block",
   "toc_window_display": true
  }
 },
 "nbformat": 4,
 "nbformat_minor": 1
}
