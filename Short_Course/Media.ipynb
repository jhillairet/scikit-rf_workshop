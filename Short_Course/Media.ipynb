{
 "cells": [
  {
   "cell_type": "markdown",
   "metadata": {
    "slideshow": {
     "slide_type": "slide"
    }
   },
   "source": [
    "# Media\n",
    "\n",
    "**skrf** supports some basic device simulation based on transmission line models.\n",
    "\n",
    "* Network creation is accomplished through methods of the `Media` class, which represents a transmission line object for a given medium.\n",
    "* Once constructed, a `Media` object contains the necessary properties/methods such as:\n",
    "  * `propagation constant`\n",
    "  * `characteristic impedance`\n",
    "  * `line`, `short`, `open`, `resistor`, `inductor`, etc..."
   ]
  },
  {
   "cell_type": "code",
   "execution_count": null,
   "metadata": {
    "slideshow": {
     "slide_type": "-"
    }
   },
   "outputs": [],
   "source": [
    "import skrf as rf\n",
    "from skrf.media import CPW  # Co-Planar Waveguide \n",
    "rf.stylely()\n",
    "\n",
    "freq = rf.Frequency(75,110,101,'ghz')\n",
    "cpw =  CPW(freq, w=10e-6, s=5e-6, ep_r=10.6)\n",
    "print(cpw)"
   ]
  },
  {
   "cell_type": "markdown",
   "metadata": {
    "slideshow": {
     "slide_type": "subslide"
    }
   },
   "source": [
    "To create a transmission line of 100um:"
   ]
  },
  {
   "cell_type": "code",
   "execution_count": null,
   "metadata": {
    "slideshow": {
     "slide_type": "-"
    }
   },
   "outputs": [],
   "source": [
    "cpw.line(100*1e-6, name = '100um line')"
   ]
  },
  {
   "cell_type": "markdown",
   "metadata": {
    "slideshow": {
     "slide_type": "slide"
    }
   },
   "source": [
    "##  `Media` Object Basics \n",
    "\n",
    "Two arguments are common to all media constructors\n",
    "\n",
    "* `frequency` (required) : a `Frequency` object\n",
    "*  `z0`   (optional) : `z0` is the port impedance, needed if port impedance is different from the media's characteristic impedance"
   ]
  },
  {
   "cell_type": "markdown",
   "metadata": {
    "slideshow": {
     "slide_type": "fragment"
    }
   },
   "source": [
    "The instance has  a 10um center conductor, gap of 5um, and substrate with relative permativity of 10.6,"
   ]
  },
  {
   "cell_type": "code",
   "execution_count": null,
   "metadata": {
    "slideshow": {
     "slide_type": "-"
    }
   },
   "outputs": [],
   "source": [
    "freq = rf.Frequency(75,110,101,'ghz')\n",
    "cpw = CPW(freq, w=10e-6, s=5e-6, ep_r=10.6, z0=1)\n",
    "\n",
    "cpw"
   ]
  },
  {
   "cell_type": "markdown",
   "metadata": {
    "slideshow": {
     "slide_type": "subslide"
    }
   },
   "source": [
    "* the defining properties of a (single moded) transmission line are it's characteristic impedance and propagation constant.\n",
    "* These properties return complex `numpy.ndarray`'s\n",
    "* The *characteristic impedance* is given by a `Z0` (capital Z)"
   ]
  },
  {
   "cell_type": "code",
   "execution_count": null,
   "metadata": {
    "slideshow": {
     "slide_type": "-"
    }
   },
   "outputs": [],
   "source": [
    "cpw.Z0[:3] "
   ]
  },
  {
   "cell_type": "markdown",
   "metadata": {
    "slideshow": {
     "slide_type": "fragment"
    }
   },
   "source": [
    "* A *port impedance* is also needed when different networks are connected. \n",
    "* The *port impedance* is given by `z0` (lower z).\n",
    "* The *port impedance* is used to compute impedance mismatched if circuits of different port impedance are connected. "
   ]
  },
  {
   "cell_type": "code",
   "execution_count": null,
   "metadata": {
    "slideshow": {
     "slide_type": "-"
    }
   },
   "outputs": [],
   "source": [
    "cpw.z0[:3]  # was set to 1 for the sake of the example"
   ]
  },
  {
   "cell_type": "markdown",
   "metadata": {
    "slideshow": {
     "slide_type": "fragment"
    }
   },
   "source": [
    "The propagation constant is given by `gamma` "
   ]
  },
  {
   "cell_type": "code",
   "execution_count": null,
   "metadata": {
    "slideshow": {
     "slide_type": "-"
    }
   },
   "outputs": [],
   "source": [
    "cpw.gamma[:3]"
   ]
  },
  {
   "cell_type": "markdown",
   "metadata": {
    "slideshow": {
     "slide_type": "slide"
    }
   },
   "source": [
    "## Slab of  Si in Freespace\n",
    "\n",
    "A plane-wave in freespace from 10-20GHz."
   ]
  },
  {
   "cell_type": "code",
   "execution_count": null,
   "metadata": {
    "slideshow": {
     "slide_type": "-"
    }
   },
   "outputs": [],
   "source": [
    "from skrf.media import Freespace\n",
    "\n",
    "freq = rf.Frequency(10,20,101,'ghz')\n",
    "air =  Freespace(freq)\n",
    "air"
   ]
  },
  {
   "cell_type": "code",
   "execution_count": null,
   "metadata": {
    "slideshow": {
     "slide_type": "fragment"
    }
   },
   "outputs": [],
   "source": [
    "air.z0[:2] # 377ohm baby!"
   ]
  },
  {
   "cell_type": "markdown",
   "metadata": {
    "slideshow": {
     "slide_type": "subslide"
    }
   },
   "source": [
    "A plane wave in Si:"
   ]
  },
  {
   "cell_type": "code",
   "execution_count": null,
   "metadata": {
    "slideshow": {
     "slide_type": "-"
    }
   },
   "outputs": [],
   "source": [
    "si = rf.Freespace(freq, ep_r = 11.2)\n",
    "si.z0[:3] # ~110ohm\n"
   ]
  },
  {
   "cell_type": "markdown",
   "metadata": {
    "slideshow": {
     "slide_type": "fragment"
    }
   },
   "source": [
    "Simulate a 1cm slab of Si in half-space,"
   ]
  },
  {
   "cell_type": "code",
   "execution_count": null,
   "metadata": {
    "slideshow": {
     "slide_type": "-"
    }
   },
   "outputs": [],
   "source": [
    "slab = air.thru() ** si.line(1, 'cm') ** air.thru()\n",
    "slab.plot_s_db(n=0) "
   ]
  },
  {
   "cell_type": "markdown",
   "metadata": {
    "slideshow": {
     "slide_type": "slide"
    }
   },
   "source": [
    "## Rectangular Waveguide\n",
    "\n",
    "a WR-10 Rectangular Waveguide"
   ]
  },
  {
   "cell_type": "code",
   "execution_count": null,
   "metadata": {
    "slideshow": {
     "slide_type": "-"
    }
   },
   "outputs": [],
   "source": [
    "from skrf.media import RectangularWaveguide\n",
    "\n",
    "freq = rf.Frequency(75,110,101,'ghz')\n",
    "wg = RectangularWaveguide(freq, a=100*rf.mil, z0=50) # see note below about z0\n",
    "wg"
   ]
  },
  {
   "cell_type": "markdown",
   "metadata": {
    "slideshow": {
     "slide_type": "-"
    }
   },
   "source": [
    "* The `z0` argument in the Rectangular Waveguide constructor is used to force a specific port impedance.\n",
    "* This is commonly used to match the port impedance to what a VNA stores in a touchstone file."
   ]
  },
  {
   "cell_type": "markdown",
   "metadata": {
    "slideshow": {
     "slide_type": "subslide"
    }
   },
   "source": [
    "Lets compare the propagation constant in waveguide to that of freespace, "
   ]
  },
  {
   "cell_type": "code",
   "execution_count": null,
   "metadata": {
    "slideshow": {
     "slide_type": "-"
    }
   },
   "outputs": [],
   "source": [
    "air = Freespace(freq)"
   ]
  },
  {
   "cell_type": "code",
   "execution_count": null,
   "metadata": {
    "slideshow": {
     "slide_type": "-"
    }
   },
   "outputs": [],
   "source": [
    "from matplotlib import pyplot as plt\n",
    "\n",
    "air.plot(air.gamma.imag, label='Freespace')\n",
    "wg.plot(wg.gamma.imag, label='WR10')\n",
    "\n",
    "plt.ylabel('Propagation Constant (rad/m)')\n",
    "plt.legend()"
   ]
  },
  {
   "cell_type": "markdown",
   "metadata": {
    "slideshow": {
     "slide_type": "subslide"
    }
   },
   "source": [
    "Because the wave quantities are dynamic they change when the attributes of the media change.\n",
    "\n",
    "To illustrate, plot the propagation constant of the cpw for various values of substrated permativity,  "
   ]
  },
  {
   "cell_type": "code",
   "execution_count": null,
   "metadata": {
    "slideshow": {
     "slide_type": "-"
    }
   },
   "outputs": [],
   "source": [
    "for ep_r in [9,10,11]:\n",
    "    cpw.ep_r = ep_r\n",
    "    cpw.frequency.plot(cpw.beta, label='er=%.1f'%ep_r)\n",
    "\n",
    "plt.xlabel('Frequency [GHz]')\n",
    "plt.ylabel('Propagation Constant [rad/m]')\n",
    "plt.legend()\n"
   ]
  },
  {
   "cell_type": "markdown",
   "metadata": {
    "slideshow": {
     "slide_type": "slide"
    }
   },
   "source": [
    "## Network Synthesis\n",
    "\n",
    "Networks are created through methods of a Media object. To create a 1-port network for a rectangular waveguide short, "
   ]
  },
  {
   "cell_type": "code",
   "execution_count": null,
   "metadata": {
    "slideshow": {
     "slide_type": "-"
    }
   },
   "outputs": [],
   "source": [
    "wg.short(name = 'short') "
   ]
  },
  {
   "cell_type": "markdown",
   "metadata": {
    "slideshow": {
     "slide_type": "fragment"
    }
   },
   "source": [
    "Or to create a $90^{\\circ}$ section of cpw line, "
   ]
  },
  {
   "cell_type": "code",
   "execution_count": null,
   "metadata": {
    "slideshow": {
     "slide_type": "-"
    }
   },
   "outputs": [],
   "source": [
    "cpw.line(d=90,unit='deg', name='line')"
   ]
  },
  {
   "cell_type": "markdown",
   "metadata": {
    "raw_mimetype": "text/restructuredtext",
    "slideshow": {
     "slide_type": "fragment"
    }
   },
   "source": [
    "* Simple circuits like :`Media.short` and `open` are ideal short and opens with $\\Gamma = -1$ and $\\Gamma = 1$\n",
    " * they dont take into account sophisticated effects of the discontinuities.\n",
    "\n",
    "* Eventually, these more complex networks could be implemented with methods specific to a given Media, ie `CPW.cpw_short` , should the need arise...\n",
    "\t"
   ]
  },
  {
   "cell_type": "markdown",
   "metadata": {
    "slideshow": {
     "slide_type": "slide"
    }
   },
   "source": [
    "## Building Circuits\n",
    "\n",
    "\n",
    "By connecting a series of simple circuits, more complex circuits can be \n",
    "made. To build a the $90^{\\circ}$ delay short, in the \n",
    "rectangular waveguide media defined above."
   ]
  },
  {
   "cell_type": "code",
   "execution_count": null,
   "metadata": {
    "slideshow": {
     "slide_type": "-"
    }
   },
   "outputs": [],
   "source": [
    "delay_short = wg.line(d=90,unit='deg') ** wg.short()\n",
    "delay_short.name = 'delay short'\n",
    "delay_short"
   ]
  },
  {
   "cell_type": "markdown",
   "metadata": {
    "slideshow": {
     "slide_type": "fragment"
    }
   },
   "source": [
    "When `Networks` with more than 2 ports need to be connected together, use `rf.connect()` or `Circuit` for more advanced things.\n",
    "\n",
    "To create a two-port network for a shunted delayed open, you can create an ideal 3-way splitter (a 'tee') and connect the delayed open to one of its ports:"
   ]
  },
  {
   "cell_type": "code",
   "execution_count": null,
   "metadata": {
    "slideshow": {
     "slide_type": "-"
    }
   },
   "outputs": [],
   "source": [
    "tee = cpw.tee()\n",
    "delay_open = cpw.delay_open(40,'deg')\n",
    "shunt_open = rf.connect(tee,1,delay_open,0)"
   ]
  },
  {
   "cell_type": "markdown",
   "metadata": {
    "slideshow": {
     "slide_type": "subslide"
    }
   },
   "source": [
    "Adding networks in shunt  is pretty common, so there is a `Media.shunt()` function to do this, "
   ]
  },
  {
   "cell_type": "code",
   "execution_count": null,
   "metadata": {
    "slideshow": {
     "slide_type": "-"
    }
   },
   "outputs": [],
   "source": [
    "cpw.shunt(delay_open)"
   ]
  },
  {
   "cell_type": "markdown",
   "metadata": {
    "slideshow": {
     "slide_type": "subslide"
    }
   },
   "source": [
    "If a specific circuit is created frequently, it may make sense to \n",
    "use a function to create the circuit. This can be done most quickly using `lambda`"
   ]
  },
  {
   "cell_type": "code",
   "execution_count": null,
   "metadata": {
    "slideshow": {
     "slide_type": "-"
    }
   },
   "outputs": [],
   "source": [
    "delay_short = lambda d: wg.line(d,'deg')**wg.short()\n",
    "delay_short(90)"
   ]
  },
  {
   "cell_type": "markdown",
   "metadata": {
    "slideshow": {
     "slide_type": "subslide"
    }
   },
   "source": [
    "A more useful example may be to create a function for a shunt-stub tuner,\n",
    "that will work for any media object"
   ]
  },
  {
   "cell_type": "code",
   "execution_count": null,
   "metadata": {
    "slideshow": {
     "slide_type": "-"
    }
   },
   "outputs": [],
   "source": [
    "def shunt_stub(med, d0, d1):\n",
    "    return med.line(d0,'deg')**med.shunt_delay_open(d1,'deg')\n",
    "\n",
    "shunt_stub(cpw,10,90)"
   ]
  },
  {
   "cell_type": "markdown",
   "metadata": {
    "slideshow": {
     "slide_type": "-"
    }
   },
   "source": [
    "This approach lends itself to design optimization."
   ]
  },
  {
   "cell_type": "markdown",
   "metadata": {
    "slideshow": {
     "slide_type": "slide"
    }
   },
   "source": [
    "## Design Optimization\n",
    "The abilities of `scipy`'s optimizers can be used to automate network design. In this example, skrf is used to automate the single stub impedance matching network design.\n",
    "\n",
    "First, we create a 'cost' function which returns something we want to minimize, such as the reflection coefficient magnitude at band center.\n",
    "\n",
    "Then, one of scipy's minimization algorithms is used to determine the optimal parameters of the stub lengths to minimize this cost."
   ]
  },
  {
   "cell_type": "code",
   "execution_count": null,
   "metadata": {
    "slideshow": {
     "slide_type": "-"
    }
   },
   "outputs": [],
   "source": [
    "from scipy.optimize import fmin\n",
    "\n",
    "# the load we are trying to match\n",
    "load = cpw.load(.2+.2j)\n",
    "\n",
    "# single stub circuit generator function\n",
    "def shunt_stub(med, d0, d1): \n",
    "    return med.line(d0,'deg')**med.shunt_delay_open(d1,'deg')\n",
    "\n",
    "# define the cost function we want to minimize (this uses sloppy namespace)\n",
    "def cost(d):\n",
    "    # prevent negative length lines, returning high cost\n",
    "    if d[0] <0 or d[1] <0:\n",
    "        return 1e3 \n",
    "    return (shunt_stub(cpw,d[0],d[1]) ** load)[100].s_mag.squeeze()"
   ]
  },
  {
   "cell_type": "code",
   "execution_count": null,
   "metadata": {
    "slideshow": {
     "slide_type": "subslide"
    }
   },
   "outputs": [],
   "source": [
    "# initial guess of optimal delay lengths in degrees\n",
    "d0 = 120,40 # initial guess\n",
    "\n",
    "#determine the optimal delays\n",
    "d_opt = fmin(cost,(120,40))\n",
    "\n",
    "d_opt "
   ]
  },
  {
   "cell_type": "code",
   "execution_count": null,
   "metadata": {},
   "outputs": [],
   "source": []
  }
 ],
 "metadata": {
  "anaconda-cloud": {},
  "celltoolbar": "Slideshow",
  "kernelspec": {
   "display_name": "Python 3 (ipykernel)",
   "language": "python",
   "name": "python3"
  },
  "language_info": {
   "codemirror_mode": {
    "name": "ipython",
    "version": 3
   },
   "file_extension": ".py",
   "mimetype": "text/x-python",
   "name": "python",
   "nbconvert_exporter": "python",
   "pygments_lexer": "ipython3",
   "version": "3.9.7"
  }
 },
 "nbformat": 4,
 "nbformat_minor": 1
}
