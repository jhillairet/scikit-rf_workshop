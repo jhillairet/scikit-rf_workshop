{
 "cells": [
  {
   "cell_type": "markdown",
   "metadata": {
    "slideshow": {
     "slide_type": "slide"
    }
   },
   "source": [
    "# Advanced/Partial De-embedding\n",
    "\n",
    "## What is de-embedding and how does it differ from calibration?\n",
    "<img src=\"figures/onwafer_pads.png\" alt=\"onwafer-pads\" width=\"20%\" align=\"right\">\n",
    "Consider  measurement of integrated RF transistors built on a silicon wafer. \n",
    "\n",
    "The typical measurement setup involves RF probes that:\n",
    "* have a co-axial connector at one end\n",
    "* a ground-signal-ground (GSG) probe tip at the other.\n",
    "\n",
    "To measure an RF transistor, DUT is connected to GSG pads at two of the three terminals via metal interconnects, while connecting the third terminal to RF ground\n",
    "\n",
    "**But what is the calibration reference plane for this transistor s-parameter measurement?**\n",
    "\n",
    "[Image Source](https://mos-ak.org/shanghai_2016/presentations/Bertrand_Ardouin_MOS-AK_Shanghai_2016.pdf) "
   ]
  },
  {
   "cell_type": "markdown",
   "metadata": {
    "slideshow": {
     "slide_type": "subslide"
    }
   },
   "source": [
    "<img src=\"figures/deembedding.png\" width=\"25%\" />\n",
    "\n",
    "* Effects of cabling and probe transitions can be removed by performing standard calibration (TRL, SOLT) to move calibration reference to probe tips (GSG pads)\n",
    "\n",
    "* However, there is still a substantial \"test-fixture\" involving metal interconnects that need to be removed before accessing the real terminals of the RF transistor whose measurement we actually want. \n",
    "\n",
    "* **De-embedding refers to the removal of extraneous effects that a test fixture can have on the measurement of a device under test (DUT).**\n",
    "\n",
    "* De-embedding process differs from calibration in that no well known standards can be used\n",
    "\n",
    "For a basic introduction to this topic, refer [this article](http://na.support.keysight.com/faq/deembed.pdf)."
   ]
  }
 ],
 "metadata": {
  "celltoolbar": "Slideshow",
  "interpreter": {
   "hash": "e4e7dd5500e6a88eedb37556ff17b468362ce8901d4723929d67f63a42b4a9da"
  },
  "kernelspec": {
   "display_name": "Python 3 (ipykernel)",
   "language": "python",
   "name": "python3"
  },
  "language_info": {
   "codemirror_mode": {
    "name": "ipython",
    "version": 3
   },
   "file_extension": ".py",
   "mimetype": "text/x-python",
   "name": "python",
   "nbconvert_exporter": "python",
   "pygments_lexer": "ipython3",
   "version": "3.9.7"
  }
 },
 "nbformat": 4,
 "nbformat_minor": 2
}
