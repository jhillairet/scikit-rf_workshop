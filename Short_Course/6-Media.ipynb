{
 "cells": [
  {
   "cell_type": "markdown",
   "metadata": {
    "slideshow": {
     "slide_type": "slide"
    }
   },
   "source": [
    "# Media\n",
    "\n",
    "**scikit-rf** supports some basic device simulation based on transmission line models, such as coaxial lines, hollow waveguides, microstrip-lines, freespace, etc.\n",
    "\n",
    "* Network creation is accomplished through the `Media` class and subclasses, which represent a transmission line object for a given medium.\n",
    "* Once constructed, a `Media` object contains properties/methods such as:\n",
    "  * `propagation constant`\n",
    "  * `characteristic impedance`\n",
    "  * `line`, `short`, `open`, `resistor`, `inductor`, etc...\n",
    "- The list of supported media is in the documentation Media API page."
   ]
  },
  {
   "cell_type": "code",
   "execution_count": null,
   "metadata": {
    "slideshow": {
     "slide_type": "-"
    }
   },
   "outputs": [],
   "source": [
    "import skrf as rf\n",
    "from skrf.media import CPW  # Co-Planar Waveguide \n",
    "rf.stylely()"
   ]
  },
  {
   "attachments": {},
   "cell_type": "markdown",
   "metadata": {
    "slideshow": {
     "slide_type": "slide"
    }
   },
   "source": [
    "## Coaxial Example\n",
    "- Simulating a VNA measurement¶ of a RG-58 cable\n",
    "<img src=\"figures/media_coax_measurement.svg\" width=\"600\"/>"
   ]
  },
  {
   "cell_type": "markdown",
   "metadata": {
    "slideshow": {
     "slide_type": "subslide"
    }
   },
   "source": [
    "- A `Frequency` object is the minimum requirement to construct a Media object. Other parameters depend of the medium type.\n",
    "- The port impedance `z0_port` can be passed to renormalize the media characteristic impedance (default) `z0` to the port impedance of a simulated measurement. "
   ]
  },
  {
   "cell_type": "code",
   "execution_count": null,
   "metadata": {
    "slideshow": {
     "slide_type": "-"
    }
   },
   "outputs": [],
   "source": [
    "from skrf.media import Coaxial\n",
    "freq = rf.Frequency(start=1, stop=2, npoints=1001, unit='GHz')\n",
    "\n",
    "# media with z0_port the port impedance of the VNA\n",
    "# https://en.wikipedia.org/wiki/Coaxial_cable#Standards\n",
    "rg58 = Coaxial(freq, Dint=0.91e-3, Dout=2.95e-3, epsilon_r=2.3, z0_port=50)\n",
    "print(rg58)"
   ]
  },
  {
   "cell_type": "markdown",
   "metadata": {
    "slideshow": {
     "slide_type": "subslide"
    }
   },
   "source": [
    "Let’s create a line network corresponding to a 1m length of coax:\n"
   ]
  },
  {
   "cell_type": "code",
   "execution_count": null,
   "metadata": {
    "slideshow": {
     "slide_type": "-"
    }
   },
   "outputs": [],
   "source": [
    "line = rg58.line(d=1, unit='m', name='rg58_1m')"
   ]
  },
  {
   "cell_type": "markdown",
   "metadata": {
    "slideshow": {
     "slide_type": "subslide"
    }
   },
   "source": [
    "The effect of the mismatch between the port impedance `z0_port` and the characteristic impedance `z0` of the line defined by the geometry (NB: can also be forced to an arbitrary value) is observed on RL:"
   ]
  },
  {
   "cell_type": "code",
   "execution_count": null,
   "metadata": {
    "slideshow": {
     "slide_type": "-"
    }
   },
   "outputs": [],
   "source": [
    "line.plot_s_db(m=0, n=0)"
   ]
  },
  {
   "cell_type": "markdown",
   "metadata": {
    "slideshow": {
     "slide_type": "slide"
    }
   },
   "source": [
    "## Example: Stub Design Optimization\n",
    "In this example, scikit-rf is used to optimize a single stub impedance matching network design. "
   ]
  },
  {
   "cell_type": "code",
   "execution_count": null,
   "metadata": {
    "slideshow": {
     "slide_type": "-"
    }
   },
   "outputs": [],
   "source": [
    "from scipy.optimize import fmin\n",
    "from skrf.media import CPW\n",
    "freq = rf.Frequency(75, 110, 101, 'GHz')\n",
    "cpw = CPW(freq, w = 10e-6, s = 5e-6, ep_r = 10.6, z0_port = 50)\n",
    "\n",
    "# the load we are trying to match\n",
    "load = cpw.load(.2+.2j)"
   ]
  },
  {
   "cell_type": "markdown",
   "metadata": {
    "slideshow": {
     "slide_type": "subslide"
    }
   },
   "source": [
    "- First, we create a \"cost\" function that returns something we want to minimize, such as the reflection coefficient magnitude at the band center. "
   ]
  },
  {
   "cell_type": "code",
   "execution_count": null,
   "metadata": {
    "slideshow": {
     "slide_type": "-"
    }
   },
   "outputs": [],
   "source": [
    "# single stub circuit generator function\n",
    "def shunt_stub(med, d0, d1):\n",
    "    return med.line(d0, unit='deg') ** med.shunt_delay_open(d1, unit='deg')"
   ]
  },
  {
   "cell_type": "markdown",
   "metadata": {
    "slideshow": {
     "slide_type": "fragment"
    }
   },
   "source": [
    "- Then, one of scipy’s minimization algorithms is used to determine the optimal parameters of the stub lengths to minimize this cost.\n"
   ]
  },
  {
   "cell_type": "code",
   "execution_count": null,
   "metadata": {
    "slideshow": {
     "slide_type": "-"
    }
   },
   "outputs": [],
   "source": [
    "# define the cost function we want to minimize (this uses sloppy namespace)\n",
    "def cost(d):\n",
    "    # prevent negative length lines, returning high cost\n",
    "    if d[0] < 0 or d[1] < 0:\n",
    "        return 1e3\n",
    "    return (shunt_stub(cpw, d[0], d[1]) ** load)[100].s_mag.squeeze()"
   ]
  },
  {
   "cell_type": "code",
   "execution_count": null,
   "metadata": {
    "slideshow": {
     "slide_type": "subslide"
    }
   },
   "outputs": [],
   "source": [
    "# initial guess of optimal delay lengths in degrees\n",
    "d0 = 120,40 # initial guess\n",
    "\n",
    "#determine the optimal delays\n",
    "d_opt = fmin(cost, (120, 40))\n",
    "\n",
    "d_opt"
   ]
  },
  {
   "cell_type": "markdown",
   "metadata": {
    "cell_style": "split",
    "slideshow": {
     "slide_type": "slide"
    }
   },
   "source": [
    "## Rectangular Waveguide\n",
    "Let's create a 30cm long WR-10 rectangular waveguide:"
   ]
  },
  {
   "cell_type": "markdown",
   "metadata": {
    "cell_style": "split",
    "slideshow": {
     "slide_type": "-"
    }
   },
   "source": [
    "<img src=\"figures/media_rectangularwaveguide.svg\" width=\"200\" align=\"right\"/>"
   ]
  },
  {
   "cell_type": "code",
   "execution_count": null,
   "metadata": {
    "slideshow": {
     "slide_type": "-"
    }
   },
   "outputs": [],
   "source": [
    "from skrf.media import RectangularWaveguide\n",
    "freq = rf.Frequency(75, 110, 1001, 'GHz')\n",
    "wr10  = RectangularWaveguide(freq, a=rf.to_meters(100, 'mil'), b=rf.to_meters(50, 'mil'),\n",
    "                             ep_r=1.0,  rho=1.68e-08)\n",
    "print(wr10)"
   ]
  },
  {
   "cell_type": "markdown",
   "metadata": {
    "slideshow": {
     "slide_type": "subslide"
    }
   },
   "source": [
    "Line creation:"
   ]
  },
  {
   "cell_type": "code",
   "execution_count": null,
   "metadata": {
    "slideshow": {
     "slide_type": "-"
    }
   },
   "outputs": [],
   "source": [
    "wr10_100 = wr10.line(100e-3, unit='m', name='wr10 100mm', z0=50)\n",
    "print(wr10_100)"
   ]
  },
  {
   "cell_type": "code",
   "execution_count": null,
   "metadata": {},
   "outputs": [],
   "source": [
    "wr10_100.plot_s_mag(m=1, n=0)"
   ]
  },
  {
   "cell_type": "markdown",
   "metadata": {
    "cell_style": "split",
    "slideshow": {
     "slide_type": "slide"
    }
   },
   "source": [
    "## Example: Measured-like WR-10 waveguide\n",
    "- VNA measured S-Parameters of a hollow waveguide.\n",
    "- The VNA has a known port impedance (usually 50 Ohm) and coaxial connectivity.\n",
    "- A coaxial to waveguide transitions are used. The transition is calibrated at the waveguide interface. Thus, VNA port impedance override the characteristic impedance of the waveguide.\n",
    "\n",
    "- Measurement will store the port impedance instead of the characteristic impedance. \n",
    "- This is not normalization: the actual characteristic impedance of the line is not measured.\n"
   ]
  },
  {
   "cell_type": "markdown",
   "metadata": {
    "cell_style": "split",
    "slideshow": {
     "slide_type": "-"
    }
   },
   "source": [
    "<img src=\"figures/media_waveguide_measurement.svg\" width=\"600\"/>"
   ]
  },
  {
   "cell_type": "markdown",
   "metadata": {
    "slideshow": {
     "slide_type": "subslide"
    }
   },
   "source": [
    "To get an S-Parameters network with 50-Ohm port impedance, either the port impedance `z0_override` can be specified at media object construction (NB: impedance can also be overridden manually)."
   ]
  },
  {
   "cell_type": "code",
   "execution_count": null,
   "metadata": {
    "slideshow": {
     "slide_type": "-"
    }
   },
   "outputs": [],
   "source": [
    "# port impedance at media construction method\n",
    "wr10_meas  =  RectangularWaveguide(freq, a=rf.to_meters(100, 'mil'), b=rf.to_meters(50, 'mil'),\n",
    "                                   ep_r=1.0,  rho=1.68e-08,\n",
    "                                   z0_override=50)\n",
    "wr10_100_measured = wr10_meas.line(100e-3, unit='m', name='wr10 100mm z0_port')\n",
    "print(wr10_100_measured2)"
   ]
  },
  {
   "cell_type": "code",
   "execution_count": null,
   "metadata": {
    "slideshow": {
     "slide_type": "subslide"
    }
   },
   "outputs": [],
   "source": [
    "wr10_100_measured.plot_s_mag(m=0, n=0)  # matched"
   ]
  },
  {
   "cell_type": "markdown",
   "metadata": {
    "slideshow": {
     "slide_type": "slide"
    }
   },
   "source": [
    "## Slab of  Si in Freespace\n",
    "\n",
    "A plane-wave in freespace from 10-20GHz."
   ]
  },
  {
   "cell_type": "code",
   "execution_count": null,
   "metadata": {
    "slideshow": {
     "slide_type": "-"
    }
   },
   "outputs": [],
   "source": [
    "from skrf.media import Freespace\n",
    "\n",
    "freq = rf.Frequency(10,20,101,'ghz')\n",
    "air =  Freespace(freq)\n",
    "air"
   ]
  },
  {
   "cell_type": "code",
   "execution_count": null,
   "metadata": {
    "slideshow": {
     "slide_type": "fragment"
    }
   },
   "outputs": [],
   "source": [
    "air.z0[:2] # 377ohm baby!"
   ]
  },
  {
   "cell_type": "markdown",
   "metadata": {
    "slideshow": {
     "slide_type": "subslide"
    }
   },
   "source": [
    "A plane wave in Si:"
   ]
  },
  {
   "cell_type": "code",
   "execution_count": null,
   "metadata": {
    "slideshow": {
     "slide_type": "-"
    }
   },
   "outputs": [],
   "source": [
    "si = rf.Freespace(freq, ep_r = 11.2)\n",
    "si.z0[:3] # ~110ohm\n"
   ]
  },
  {
   "cell_type": "markdown",
   "metadata": {
    "slideshow": {
     "slide_type": "subslide"
    }
   },
   "source": [
    "Simulate a 1cm slab of Si in half-space,"
   ]
  },
  {
   "cell_type": "code",
   "execution_count": null,
   "metadata": {
    "slideshow": {
     "slide_type": "-"
    }
   },
   "outputs": [],
   "source": [
    "slab = air.thru() ** si.line(1, 'cm') ** air.thru()\n",
    "slab.plot_s_db(n=0) "
   ]
  }
 ],
 "metadata": {
  "anaconda-cloud": {},
  "celltoolbar": "Slideshow",
  "kernelspec": {
   "display_name": "Python 3 (ipykernel)",
   "language": "python",
   "name": "python3"
  },
  "language_info": {
   "codemirror_mode": {
    "name": "ipython",
    "version": 3
   },
   "file_extension": ".py",
   "mimetype": "text/x-python",
   "name": "python",
   "nbconvert_exporter": "python",
   "pygments_lexer": "ipython3",
   "version": "3.10.8"
  },
  "toc": {
   "base_numbering": 1,
   "nav_menu": {},
   "number_sections": true,
   "sideBar": true,
   "skip_h1_title": true,
   "title_cell": "Table of Contents",
   "title_sidebar": "Contents",
   "toc_cell": false,
   "toc_position": {},
   "toc_section_display": true,
   "toc_window_display": false
  }
 },
 "nbformat": 4,
 "nbformat_minor": 1
}
