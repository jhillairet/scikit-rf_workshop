{
 "cells": [
  {
   "cell_type": "markdown",
   "metadata": {
    "slideshow": {
     "slide_type": "slide"
    }
   },
   "source": [
    "# `Calibration`: \n",
    "\n"
   ]
  },
  {
   "cell_type": "markdown",
   "metadata": {
    "slideshow": {
     "slide_type": "slide"
    }
   },
   "source": [
    "## what is it?\n",
    "High frequency measurements require the measurement system\n",
    "to be calibrated\n",
    "\n",
    "To calibrate is to:\n",
    "    \n",
    " *Remove the unwanted electrical effects of \n",
    " intermediary circuitry between the internals\n",
    " of the VNA and the test ports.*\n",
    " \n",
    "<center><img src=\"figures/vna.jpg\" width=\"400\">"
   ]
  },
  {
   "cell_type": "markdown",
   "metadata": {
    "slideshow": {
     "slide_type": "slide"
    }
   },
   "source": [
    "## How many types are there?\n",
    "Most common calibration algorithms can be categorized as\n",
    "follows\n",
    "*  One-port (OSL, SDDL, PHN,...)\n",
    "* Two-port   (TRL, LRM, TRM, ...)\n",
    "    * 16-term\n",
    "    * 12-term\n",
    "    * 8-term  \n",
    "* N-port\n",
    "\n",
    "Other things exist;\n",
    "\n",
    "* Multi-line TRL (Multi-cal)\n",
    "* iterative solutions (Statisti-Cal)\n",
    "* multi-frequency"
   ]
  },
  {
   "cell_type": "markdown",
   "metadata": {
    "slideshow": {
     "slide_type": "slide"
    }
   },
   "source": [
    "# One Port"
   ]
  },
  {
   "cell_type": "markdown",
   "metadata": {
    "slideshow": {
     "slide_type": "fragment"
    }
   },
   "source": [
    "<img src=\"figures/slottedLine.jpg\" width=\"600\">"
   ]
  },
  {
   "attachments": {},
   "cell_type": "markdown",
   "metadata": {
    "slideshow": {
     "slide_type": "slide"
    }
   },
   "source": [
    "<img src=\"figures/Microstrip-Directional-Coupler.jpg\" width=\"300\"  align=\"left\">\n",
    "<img src=\"figures/oldDays.jpg\" width=\"300\">\n",
    "    "
   ]
  },
  {
   "cell_type": "markdown",
   "metadata": {
    "slideshow": {
     "slide_type": "slide"
    }
   },
   "source": [
    "<img src=\"figures/vnaBlockDiagramOnePortRotated.svg\" width=\"600\"><img src=\"figures/Microstrip-Directional-Coupler.jpg\" width=\"300\"  align=\"left\">\n"
   ]
  },
  {
   "cell_type": "markdown",
   "metadata": {
    "slideshow": {
     "slide_type": "slide"
    }
   },
   "source": [
    "<img src=\"figures/vnaBlockDiagramOnePortWithErrorBox.svg\" width=\"600\">"
   ]
  },
  {
   "cell_type": "markdown",
   "metadata": {
    "slideshow": {
     "slide_type": "fragment"
    }
   },
   "source": [
    "\n",
    "<img src=\"figures/vnaBlockDiagramOnePortWithErrorBoxWaves.svg\" width=\"600\">"
   ]
  },
  {
   "cell_type": "markdown",
   "metadata": {
    "slideshow": {
     "slide_type": "slide"
    }
   },
   "source": [
    "\n",
    "<img src=\"figures/sfg3term.svg\" width=\"600\">"
   ]
  },
  {
   "cell_type": "code",
   "execution_count": null,
   "metadata": {},
   "outputs": [],
   "source": [
    "from skrf import air50 as m \n",
    "m.npoints=401\n",
    "N = m.impedance_mismatch(1,2)**m.line(400)**m.impedance_mismatch(3,2)**m.line(1000)**m.attenuator(-10)\n",
    "ideals = {'open':m.open(name='open'),\n",
    "          'short':m.short(name='short'),\n",
    "          'load':m.load(rf.db_2_mag(-55),name='load')}\n",
    "\n",
    "measured= {k:N**ideals[k] for k in ideals}\n",
    "\n",
    "\n",
    "rf.write_dict_of_networks(ideals, dir = 'data/calibration/ideals/')\n",
    "rf.write_dict_of_networks(measured, dir = 'data/calibration/measured/')\n"
   ]
  },
  {
   "cell_type": "code",
   "execution_count": null,
   "metadata": {},
   "outputs": [],
   "source": [
    "\n",
    "import skrf as rf\n",
    "from skrf.calibration import OnePort\n",
    "\n",
    "## created necessary data for Calibration class\n",
    "d= 'data/calibration/'\n",
    "# a list of Network types, holding 'ideal' responses\n",
    "my_ideals = [\\\n",
    "        rf.Network(d+'ideals/short.s1p'),\n",
    "        rf.Network(d+'ideals/open.s1p'),\n",
    "        rf.Network(d+'ideals/load.s1p'),\n",
    "        ]\n",
    "\n",
    "# a list of Network types, holding 'measured' responses\n",
    "my_measured = [\\\n",
    "        rf.Network(d+'measured/short.s1p'),\n",
    "        rf.Network(d+'measured/open.s1p'),\n",
    "        rf.Network(d+'measured/load.s1p'),\n",
    "        ]\n",
    "\n",
    "## create a Calibration instance\n",
    "cal = rf.OnePort(\\\n",
    "        ideals = my_ideals,\n",
    "        measured = my_measured,\n",
    "        )\n",
    "\n",
    "\n",
    "## run, and apply calibration to a DUT\n",
    "\n",
    "# run calibration algorithm\n",
    "cal.run()\n",
    "\n",
    "# apply it to a dut\n",
    "dut = rf.Network('my_dut.s1p')\n",
    "dut_caled = cal.apply_cal(dut)\n",
    "dut_caled.name =  dut.name + ' corrected'\n",
    "\n",
    "# plot results\n",
    "dut_caled.plot_s_db()\n",
    "# save results\n",
    "dut_caled.write_touchstone()"
   ]
  }
 ],
 "metadata": {
  "anaconda-cloud": {},
  "celltoolbar": "Slideshow",
  "kernelspec": {
   "display_name": "Python 3 (ipykernel)",
   "language": "python",
   "name": "python3"
  },
  "language_info": {
   "codemirror_mode": {
    "name": "ipython",
    "version": 3
   },
   "file_extension": ".py",
   "mimetype": "text/x-python",
   "name": "python",
   "nbconvert_exporter": "python",
   "pygments_lexer": "ipython3",
   "version": "3.9.5"
  },
  "toc": {
   "base_numbering": 1,
   "nav_menu": {},
   "number_sections": true,
   "sideBar": true,
   "skip_h1_title": false,
   "title_cell": "Table of Contents",
   "title_sidebar": "Contents",
   "toc_cell": false,
   "toc_position": {
    "height": "calc(100% - 180px)",
    "left": "10px",
    "top": "150px",
    "width": "276.872px"
   },
   "toc_section_display": true,
   "toc_window_display": true
  }
 },
 "nbformat": 4,
 "nbformat_minor": 4
}
