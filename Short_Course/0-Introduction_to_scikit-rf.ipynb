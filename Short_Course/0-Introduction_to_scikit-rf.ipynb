{
 "cells": [
  {
   "cell_type": "markdown",
   "id": "19c2e3c2-0c9b-4e8f-952b-62b56fdad653",
   "metadata": {
    "slideshow": {
     "slide_type": "slide"
    },
    "tags": []
   },
   "source": [
    "# scikit-rf: an open-source Python package for RF network simulation, analysis and calibration\n",
    "\n",
    "<center><img src=\"figures/scikit-rf-title-flat.svg\"></center>\n",
    "\n",
    "<center><a href=\"http://scikit-rf.org/\">http://scikit-rf.org/</a></center>\n"
   ]
  },
  {
   "cell_type": "markdown",
   "id": "0c734771",
   "metadata": {
    "slideshow": {
     "slide_type": "notes"
    }
   },
   "source": [
    "The RISE package (https://github.com/damianavila/RISE) is recommanded to present the content of these notebook like a slideshow.\n",
    "\n",
    "Once installed and enabled, the RISE Jupyter extension displays a new button (“Enter/Exit Live Reveal Slideshow”) in the toolbar, (also activable with Alt-r by default).\n",
    "\n",
    "This starts the slideshow; you can return to normal notebook edition by either pressing Alt-r again, or by clicking on the cross-shaped icon on the upper right corner of each slide.\n",
    "Navigation\n",
    "\n",
    "It is highly recommended to use mainly SpaceBar to go forward, and Shift-SpaceBar to go backward (or the visual controller in the slideshow right bottom corner). \n"
   ]
  },
  {
   "cell_type": "markdown",
   "id": "8547f2e6",
   "metadata": {
    "slideshow": {
     "slide_type": "slide"
    }
   },
   "source": [
    "# RF Engineering Typical Problems\n",
    "\n",
    "## Reading VNA Touchstone Files (.sNp)\n",
    "* 2-ports, 4-ports or 8-ports: different formatting! \n",
    " * is S21 or S12 first?\n",
    " * for device with many ports, how to deal with line breaks? "
   ]
  },
  {
   "cell_type": "markdown",
   "id": "f512d331",
   "metadata": {
    "slideshow": {
     "slide_type": "subslide"
    }
   },
   "source": [
    "## Extract and Plot Network Parameters\n",
    "* What is the formula to convert S to Z? No need to reinvent wheel!\n",
    "\n",
    "## Compare, Combine Networks\n",
    "* Uncertainties of a Series of Measurements?\n",
    "* Cascading or Deembedding\n",
    "\n",
    "## Calibration\n",
    "* Problem with Calibration = Unusable Measurements! \n",
    "* Tiered Calibration (Ex: 2-port measured with a 1-port setup)"
   ]
  },
  {
   "cell_type": "markdown",
   "id": "52a6e151",
   "metadata": {
    "slideshow": {
     "slide_type": "subslide"
    }
   },
   "source": [
    "\n",
    "## I don’t have the license for the XXX software/toolbox!"
   ]
  },
  {
   "cell_type": "markdown",
   "id": "21955aa3",
   "metadata": {
    "slideshow": {
     "slide_type": "fragment"
    }
   },
   "source": [
    "## Etc..."
   ]
  },
  {
   "cell_type": "markdown",
   "id": "2722c28e",
   "metadata": {
    "slideshow": {
     "slide_type": "slide"
    }
   },
   "source": [
    "# scikit-rf: an open-source package for RF engineering\n",
    "## A modern, object-oriented library for network analysis and calibration\n",
    "* Designed to make RF/microwave engineering both robust and approachable\n",
    " * Created in 2009 by Alex Arsenovic and continually developed since...\n",
    " * ...By more than 50 volunteers on GitHub (https://github.com/scikit-rf/scikit-rf)  \n",
    " * More than 23 000 lines of code, [estimated 6 years of effort](https://www.openhub.net/p/scikit-rf)"
   ]
  },
  {
   "cell_type": "markdown",
   "id": "59b5d82e",
   "metadata": {
    "slideshow": {
     "slide_type": "fragment"
    }
   },
   "source": [
    "<center><img src=\"figures/scikit-rf_downloads_history.png\" width=\"500\"/></center>"
   ]
  },
  {
   "cell_type": "markdown",
   "id": "5af86c65",
   "metadata": {
    "slideshow": {
     "slide_type": "subslide"
    }
   },
   "source": [
    "## Distributed with BSD open-source license: \n",
    "* benefits to the needs of private industry and Governement contracts\n",
    "* Used by several companies, universities and research groups in the world\n",
    "\n",
    "<center><img src=\"figures/scikit-rf_survey2021_context_of_use.png\" width=\"600\"></center>"
   ]
  },
  {
   "cell_type": "markdown",
   "id": "c8cb66e6",
   "metadata": {
    "slideshow": {
     "slide_type": "subslide"
    }
   },
   "source": [
    "## Domains of Application (2021 Survey)\n",
    "<center><img src=\"figures/scikit-rf_survey2021_application_domains.png\"></center>"
   ]
  },
  {
   "cell_type": "markdown",
   "id": "9d82b9e9",
   "metadata": {
    "slideshow": {
     "slide_type": "slide"
    }
   },
   "source": [
    "# Website and Documentation\n",
    "* http://scikit-rf.org/ \n",
    "\n",
    "# Ask the Community\n",
    "* Email: scikit-rf mailing List: http://groups.google.com/group/scikit-rf\n",
    "* Chat: scikit-rf have channels on both Slack and Matrix\n",
    "\n",
    "# Contributing to the scikit-rf project\n",
    "<img align=\"right\" src=\"figures/github_sponsor.png\"/>\n",
    "\n",
    "There is multiple ways to contribute to an open-source project like scikit-rf!\n",
    "* Sponsoring the project via [GitHub Sponsor](https://scikit-rf.readthedocs.io/en/latest/contributing/index.html#sponsoring-the-project)\n",
    "* [Reporting issues on GitHub](https://github.com/scikit-rf/scikit-rf)\n",
    "* [Contributing to the code](https://scikit-rf.readthedocs.io/en/latest/contributing/index.html#contributing-to-the-code): \n",
    "* [Contributing to the documentation](https://scikit-rf.readthedocs.io/en/latest/contributing/index.html#contributing-to-the-documentation)\n",
    "\n",
    "\n"
   ]
  },
  {
   "cell_type": "markdown",
   "id": "fb07ca51",
   "metadata": {
    "slideshow": {
     "slide_type": "slide"
    }
   },
   "source": [
    "# Program of the Short Course\n",
    "\n",
    "## 1. scikit-rf basics\n",
    "* `Network`: the scikit-rf base class\n",
    "* Plotting\n",
    "* Network Parameter Operations\n",
    "* Cascading and de-embedding\n",
    "* Frequency Interpolation, resampling, stitching\n",
    "\n",
    "## -= Short Break =-\n",
    "\n",
    "## 2. Time Domain\n",
    "\n",
    "## 3. Connecting Networks and creating RF circuits\n",
    "\n",
    "## -= Short Break =-"
   ]
  },
  {
   "cell_type": "markdown",
   "id": "a32037e9",
   "metadata": {
    "slideshow": {
     "slide_type": "subslide"
    }
   },
   "source": [
    "## 4. Dealing with set of Networks with `NetworkSet`\n",
    "* Statistics and Uncertainty\n",
    "* Interpolating between `Networks`\n",
    "\n",
    "## 5. Calibration and De-embedding\n",
    "\n",
    "## -= Short Break =-\n",
    "\n",
    "## 6. More Advanced Examples\n"
   ]
  }
 ],
 "metadata": {
  "celltoolbar": "Slideshow",
  "kernelspec": {
   "display_name": "Python 3 (ipykernel)",
   "language": "python",
   "name": "python3"
  },
  "language_info": {
   "codemirror_mode": {
    "name": "ipython",
    "version": 3
   },
   "file_extension": ".py",
   "mimetype": "text/x-python",
   "name": "python",
   "nbconvert_exporter": "python",
   "pygments_lexer": "ipython3",
   "version": "3.9.7"
  }
 },
 "nbformat": 4,
 "nbformat_minor": 5
}
