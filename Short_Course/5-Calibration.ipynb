{
 "cells": [
  {
   "cell_type": "markdown",
   "metadata": {
    "slideshow": {
     "slide_type": "slide"
    }
   },
   "source": [
    "# Calibration\n",
    "\n",
    "## what is it?\n",
    "High frequency measurements require the measurement system\n",
    "to be calibrated\n",
    "\n",
    "To calibrate is to:\n",
    "    \n",
    " *Remove the unwanted electrical effects of \n",
    " intermediary circuitry between the internals\n",
    " of the VNA and the test ports.*\n",
    " \n",
    "<center><img src=\"figures/vna.jpg\" width=\"400\">\n",
    "    \n",
    "But is more general than this. can be used to de-embed anywhere you can have known responses. \n",
    "    "
   ]
  },
  {
   "cell_type": "markdown",
   "metadata": {
    "slideshow": {
     "slide_type": "slide"
    }
   },
   "source": [
    "## How many types are there?\n",
    "Most common calibration algorithms can be categorized as\n",
    "follows\n",
    "*  One-port (OSL, SDDL, PHN,...)\n",
    "* Two-port   (TRL, LRM, TRM, ...)\n",
    "    * 16-term\n",
    "    * 12-term\n",
    "    * 8-term  \n",
    "* N-port\n",
    "\n",
    "Other things exist;\n",
    "\n",
    "* Multi-line TRL (Multi-cal)\n",
    "* iterative solutions (Statisti-Cal)\n",
    "* multi-frequency\n",
    "\n",
    "See http://emlab.uiuc.edu/ece451/appnotes/Rytting_NAModels.pdf for more info\n"
   ]
  },
  {
   "cell_type": "markdown",
   "metadata": {
    "slideshow": {
     "slide_type": "slide"
    }
   },
   "source": [
    "## Calibration in skrf\n",
    " \n",
    "**scikit-rf** can be used to calibrate data taken from a VNA assuming you, \n",
    "* have measured an acceptable set of standards,\n",
    "* have a corresponding set ideal responses.\n",
    "\n",
    "This may be referred to as *offline* calibration, because it is not occurring onboard the VNA itself. \n",
    "\n",
    "This technique provides maximum flexibility for non-conventional calibrations, and preserves all raw data.\n",
    "\n",
    "There are many calibration algorithms implemented in scikit-rf. See the [calibration API's page](https://scikit-rf.readthedocs.io/en/latest/api/calibration/index.html).\n"
   ]
  },
  {
   "cell_type": "markdown",
   "metadata": {
    "slideshow": {
     "slide_type": "slide"
    }
   },
   "source": [
    "## Creating a Calibration\n",
    "\n",
    "Calibrations are performed through a `Calibration` class. In General, `Calibration` objects require two arguments:\n",
    "\n",
    "*  a list of measured `Network`'s\n",
    "*  a list of ideal `Network`'s\n",
    "\n",
    "The `Network` elements in each list: \n",
    "* must all be similar (same number of ports, frequency info, etc)\n",
    "* must be aligned to each other: the first element of ideals list must correspond to the first element of measured list.\n",
    "\n",
    "*Self-calibration* algorithms, such as TRL, do not require predefined ideal responses."
   ]
  },
  {
   "cell_type": "markdown",
   "metadata": {
    "slideshow": {
     "slide_type": "slide"
    }
   },
   "source": [
    "## One-Port Example\n",
    "\n",
    "To construct a one-port calibration, you need to\n",
    "* have measured at least three standards\n",
    "* have their known *ideal* responses in the form of `Network`s. \n",
    "\n",
    "These `Network` can be created from touchstone files or from ideal analytic's reponse."
   ]
  },
  {
   "cell_type": "markdown",
   "metadata": {
    "slideshow": {
     "slide_type": "subslide"
    }
   },
   "source": [
    "The measured and ideal touchstone files for a conventional short-open-load (SOL) calkit are in folders `measured/` and `ideal/`, respectively. These are used to create a `OnePort` Calibration and correct a measured DUT "
   ]
  },
  {
   "cell_type": "code",
   "execution_count": null,
   "metadata": {
    "slideshow": {
     "slide_type": "subslide"
    }
   },
   "outputs": [],
   "source": [
    "import skrf as rf\n",
    "from skrf.calibration import OnePort\n",
    "\n",
    "\n",
    "d= 'data/calibration/oneport/'\n",
    "# a list of Network types, holding 'ideal' responses\n",
    "my_ideals = [rf.Network(d+'ideals/short.s1p'),\n",
    "             rf.Network(d+'ideals/open.s1p'),\n",
    "             rf.Network(d+'ideals/load.s1p')]\n",
    "\n",
    "# a list of Network types, holding 'measured' responses\n",
    "my_measured = [rf.Network(d+'measured/short.s1p'),\n",
    "               rf.Network(d+'measured/open.s1p'),\n",
    "               rf.Network(d+'measured/load.s1p')]"
   ]
  },
  {
   "cell_type": "code",
   "execution_count": null,
   "metadata": {
    "slideshow": {
     "slide_type": "subslide"
    }
   },
   "outputs": [],
   "source": [
    "## create a Calibration instance\n",
    "cal = rf.OnePort( ideals = my_ideals,\n",
    "                  measured = my_measured)\n",
    "\n",
    "cal"
   ]
  },
  {
   "cell_type": "code",
   "execution_count": null,
   "metadata": {
    "slideshow": {
     "slide_type": "subslide"
    }
   },
   "outputs": [],
   "source": [
    "# run calibration algorithm\n",
    "cal.run()\n",
    "\n",
    "# apply it to a dut\n",
    "dut = rf.Network(d+'duts/dut.s1p')\n",
    "dut_caled = cal.apply_cal(dut)\n",
    "dut_caled.name =  dut.name + ' corrected'\n",
    "\n",
    "# plot results\n",
    "from skrf.plotting import stylely;stylely()\n",
    "\n",
    "dut.plot_s_db()\n",
    "dut_caled.plot_s_db()"
   ]
  },
  {
   "cell_type": "code",
   "execution_count": null,
   "metadata": {
    "slideshow": {
     "slide_type": "subslide"
    }
   },
   "outputs": [],
   "source": [
    "cal.error_ntwk.plot_s_db()"
   ]
  },
  {
   "cell_type": "code",
   "execution_count": null,
   "metadata": {
    "slideshow": {
     "slide_type": "subslide"
    }
   },
   "outputs": [],
   "source": [
    "cal"
   ]
  },
  {
   "cell_type": "markdown",
   "metadata": {
    "slideshow": {
     "slide_type": "slide"
    }
   },
   "source": [
    "## Sloppy One-port\n",
    "A quick and sloppy way to do a cal "
   ]
  },
  {
   "cell_type": "code",
   "execution_count": null,
   "metadata": {
    "slideshow": {
     "slide_type": "fragment"
    }
   },
   "outputs": [],
   "source": [
    "cal = OnePort(ideals = rf.read_all(d+'ideals'),\n",
    "              measured=rf.read_all(d+'measured'))"
   ]
  },
  {
   "cell_type": "code",
   "execution_count": null,
   "metadata": {
    "slideshow": {
     "slide_type": "fragment"
    }
   },
   "outputs": [],
   "source": [
    "cal.ideals, cal.measured"
   ]
  },
  {
   "cell_type": "markdown",
   "metadata": {
    "slideshow": {
     "slide_type": "slide"
    }
   },
   "source": [
    "## One-port Tiered \n",
    "\n",
    "A one-port network analyzer can be used to measure a two-port device,\n",
    "provided that the device is reciprocal. \n",
    "\n",
    "This is accomplished by performing two calibrations, which is why its called a *tiered* calibration. \n",
    "\n",
    "First, the VNA is calibrated at the test-port like normal. This is called the *first tier*. \n",
    "\n",
    "Next, the device is connected to the test-port, and a calibration is performed at the far end of the device, the *second tier*. \n",
    "\n",
    "<center><img src=\"figures/boxDiagram.svg\" width=\"800\">\n"
   ]
  },
  {
   "cell_type": "markdown",
   "metadata": {
    "slideshow": {
     "slide_type": "subslide"
    }
   },
   "source": [
    "We'll use  data that was taken to characterize a waveguide-to-CPW probe. \n",
    "\n",
    "For this specific example the diagram above looks like:\n",
    "<center><img src=\"figures/probe.svg\" width=\"600\">\n"
   ]
  },
  {
   "cell_type": "code",
   "execution_count": null,
   "metadata": {
    "slideshow": {
     "slide_type": "subslide"
    }
   },
   "outputs": [],
   "source": [
    "ls data/calibration/oneport_tiered_calibration/"
   ]
  },
  {
   "cell_type": "markdown",
   "metadata": {
    "slideshow": {
     "slide_type": "fragment"
    }
   },
   "source": [
    "\n",
    "In each folder you will find the two sub-folders, called `'ideals/' ` and `'measured/'`. These contain touchstone files of the calibration standards ideal and measured responses,  respectively. \n",
    "\n",
    "The first tier is at waveguide interface, and consisted of the following set of standards\n",
    "\n",
    "* short \n",
    "* delay short\n",
    "* load\n",
    "* radiating open (literally an open waveguide)"
   ]
  },
  {
   "cell_type": "markdown",
   "metadata": {
    "slideshow": {
     "slide_type": "subslide"
    }
   },
   "source": [
    "### Tier 1"
   ]
  },
  {
   "cell_type": "code",
   "execution_count": null,
   "metadata": {
    "slideshow": {
     "slide_type": "fragment"
    }
   },
   "outputs": [],
   "source": [
    "\n",
    "d = 'data/calibration/oneport_tiered_calibration/'\n",
    "tier1_ideals   = rf.read_all_networks(d+'/tier1/ideals/')\n",
    "tier1_measured = rf.read_all_networks(d+'/tier1/measured/')\n",
    " \n",
    "\n",
    "tier1 = OnePort(measured = tier1_measured,\n",
    "                ideals = tier1_ideals,\n",
    "                name = 'tier1',\n",
    "                sloppy_input=True)\n",
    "tier1"
   ]
  },
  {
   "cell_type": "markdown",
   "metadata": {
    "slideshow": {
     "slide_type": "subslide"
    }
   },
   "source": [
    "### Tier 2"
   ]
  },
  {
   "cell_type": "code",
   "execution_count": null,
   "metadata": {
    "slideshow": {
     "slide_type": "fragment"
    }
   },
   "outputs": [],
   "source": [
    "tier2_ideals = rf.read_all_networks(d+'/tier2/ideals/')\n",
    "tier2_measured = rf.read_all_networks(d+'/tier2/measured/')\n",
    " \n",
    "\n",
    "tier2 = OnePort(measured = tier2_measured,\n",
    "                ideals = tier2_ideals,\n",
    "                name = 'tier2',\n",
    "                sloppy_input=True)\n",
    "tier2"
   ]
  },
  {
   "cell_type": "markdown",
   "metadata": {
    "slideshow": {
     "slide_type": "subslide"
    }
   },
   "source": [
    "The error network for *tier1* models the VNA\n",
    "\n",
    "the error network for *tier2* represents the VNA+DUT. \n",
    "\n",
    "To determine the DUT's response, we cascade the inverse S-parameters of the VNA with the VNA+DUT. \n",
    "\n",
    "$$ DUT = VNA^{-1}\\cdot (VNA \\cdot DUT)$$\n",
    "\n",
    "<center><img src=\"figures/probe.svg\" width=\"600\">"
   ]
  },
  {
   "cell_type": "code",
   "execution_count": null,
   "metadata": {
    "slideshow": {
     "slide_type": "subslide"
    }
   },
   "outputs": [],
   "source": [
    "from matplotlib import pyplot as plt\n",
    "dut = tier1.error_ntwk.inv ** tier2.error_ntwk\n",
    "dut.name = 'probe'\n",
    "dut.plot_s_db()\n",
    "plt.title('Probe S-parameters')\n",
    "plt.ylim(-60,10);"
   ]
  },
  {
   "cell_type": "markdown",
   "metadata": {
    "slideshow": {
     "slide_type": "slide"
    }
   },
   "source": [
    "##  Two-port Calibrations\n",
    "**skrf** supports a few different two-port algorithms: \n",
    "\n",
    "* 12-term error model, such as the traditional `SOLT`. Similar to the OnePort example.\n",
    "* The `EightTerm` calibrations can  be constructed from any number of standards, providing that:\n",
    " * you need 3 **two-port** standards:\n",
    "   * one must be transmissive, \n",
    "   * one must provide a known impedance \n",
    "   * one must be reflective.\n",
    " * Important detail:  of using the 8-term error model formulation is that switch-terms may need to be measured in order to achieve a high quality calibration\n",
    " \n",
    "Note, that the word 8-term is used in the literature to describe a specific error model used by a variety of calibration algorithms, like TRL, LRM, etc. The EightTerm class, is an implementation of the algorithm cited above, which does not use any self-calibration."
   ]
  },
  {
   "cell_type": "markdown",
   "metadata": {
    "slideshow": {
     "slide_type": "subslide"
    }
   },
   "source": [
    "## TRL"
   ]
  },
  {
   "cell_type": "code",
   "execution_count": null,
   "metadata": {
    "slideshow": {
     "slide_type": "fragment"
    }
   },
   "outputs": [],
   "source": [
    "from skrf.calibration import TRL\n",
    "\n",
    "d = 'data/calibration/trl_data/'\n",
    "T = rf.Network(d+'thru.s2p')\n",
    "R = rf.Network(d+'reflect.s2p')\n",
    "L = rf.Network(d+'line.s2p')\n",
    "\n",
    "switch_terms = (rf.Network(d+'forward switch term.s1p'),\n",
    "                rf.Network(d+'reverse switch term.s1p'))\n",
    "\n",
    "measured = [T,R,L]"
   ]
  },
  {
   "cell_type": "code",
   "execution_count": null,
   "metadata": {
    "slideshow": {
     "slide_type": "subslide"
    }
   },
   "outputs": [],
   "source": [
    "trl = TRL(measured = measured, \n",
    "          switch_terms = switch_terms)\n",
    "trl"
   ]
  },
  {
   "cell_type": "code",
   "execution_count": null,
   "metadata": {
    "slideshow": {
     "slide_type": "subslide"
    }
   },
   "outputs": [],
   "source": [
    "dut_raw = rf.Network(d+'mismatched line.s2p')\n",
    "dut_corrected = trl.apply_cal(dut_raw)\n",
    "dut_corrected.plot_s_db()"
   ]
  },
  {
   "cell_type": "markdown",
   "metadata": {
    "slideshow": {
     "slide_type": "slide"
    }
   },
   "source": [
    "## Tip: Using one-port ideals in two-port Calibration\n",
    "\n",
    "Commonly, you have data for ideal data for reflective standards in the form of one-port touchstone files (ie `.s1p`).\n",
    "\n",
    "To use this with skrf's two-port calibration method you need to create a two-port network that is a composite of the two networks. The  function `skrf.network.two_port_reflect` does this:\n",
    "\n",
    "<img src=\"figures/2_1port_to_1_2port.svg\"/>"
   ]
  },
  {
   "cell_type": "code",
   "execution_count": null,
   "metadata": {
    "slideshow": {
     "slide_type": "fragment"
    }
   },
   "outputs": [],
   "source": [
    "short = rf.Network('data/calibration/oneport/ideals/short.s1p')\n",
    "shorts = rf.two_port_reflect(short, short)\n",
    "shorts"
   ]
  },
  {
   "cell_type": "markdown",
   "metadata": {
    "slideshow": {
     "slide_type": "slide"
    }
   },
   "source": [
    "## Switch-terms\n",
    "\n",
    "Originally described by Roger Marks, *switch-terms* account for the fact that the 8-term (aka *error-box* ) model is overly simplified:\n",
    "* The two error networks change slightly depending on which port is being excited due to internal switch within the VNA. \n",
    "* Switch terms describe the imperfect load when the source is switch to the other port.\n",
    "\n",
    "Switch terms can be directly measured with a low insertion loss transmissive standard (like a thru) connected between the cables connected to the instrument ports. \n",
    "\n",
    "Sometime, a custom measurement configuration is available on the VNA itself. \n",
    "\n",
    "Without switch-term measurements, your calibration quality will vary depending on properties of you VNA."
   ]
  },
  {
   "cell_type": "markdown",
   "metadata": {
    "slideshow": {
     "slide_type": "slide"
    }
   },
   "source": [
    "## SOLT Example\n",
    "\n",
    "Two-port calibration is accomplished in an identical way to one-port, except all the standards are two-port networks. \n",
    "\n",
    "This is even true of reflective standards (S21=S12=0). \n",
    "\n",
    "So if you measure reflective standards you must measure two of them simultaneously, and store information in a two-port:\n",
    "\n",
    "<img src=\"figures/VNA_2_1port.svg\"/>"
   ]
  },
  {
   "cell_type": "markdown",
   "metadata": {
    "slideshow": {
     "slide_type": "subslide"
    }
   },
   "source": [
    "For example, connect a short to port-1 and a load to port-2, and save a two-port measurement as 'short,load.s2p' or similar\n",
    "   \n",
    "    # a list of Network types, holding 'ideal' responses\n",
    "    my_ideals = [\n",
    "\t    rf.Network('ideal/thru.s2p'),\n",
    "\t    rf.Network('ideal/short, short.s2p'),\n",
    "\t    rf.Network('ideal/open, open.s2p'),\n",
    "\t    rf.Network('ideal/load, load.s2p'),\n",
    "\t    ]\n",
    "    \n",
    "    # a list of Network types, holding 'measured' responses\n",
    "    my_measured = [\n",
    "\t    rf.Network('measured/thru.s2p'),\n",
    "\t    rf.Network('measured/short, short.s2p'),\n",
    "\t    rf.Network('measured/open, open.s2p'),\n",
    "\t    rf.Network('measured/load, load.s2p'),\n",
    "\t    ]"
   ]
  },
  {
   "cell_type": "markdown",
   "metadata": {
    "slideshow": {
     "slide_type": "subslide"
    }
   },
   "source": [
    "    ## create a SOLT instance\n",
    "    cal = rf.calibration.SOLT(\n",
    "\t    ideals = my_ideals,\n",
    "\t    measured = my_measured,\n",
    "\t    )"
   ]
  },
  {
   "cell_type": "markdown",
   "metadata": {
    "slideshow": {
     "slide_type": "fragment"
    }
   },
   "source": [
    "    # run calibration algorithm\n",
    "    cal.run() \n",
    "    \n",
    "    # apply it to a dut\n",
    "    dut = rf.Network('my_dut.s2p')\n",
    "    dut_caled = cal.apply_cal(dut)"
   ]
  },
  {
   "cell_type": "markdown",
   "metadata": {
    "slideshow": {
     "slide_type": "slide"
    }
   },
   "source": [
    "# Example : one port tiered calibration?"
   ]
  },
  {
   "cell_type": "code",
   "execution_count": null,
   "metadata": {
    "slideshow": {
     "slide_type": "-"
    }
   },
   "outputs": [],
   "source": []
  }
 ],
 "metadata": {
  "anaconda-cloud": {},
  "celltoolbar": "Slideshow",
  "kernelspec": {
   "display_name": "Python 3 (ipykernel)",
   "language": "python",
   "name": "python3"
  },
  "language_info": {
   "codemirror_mode": {
    "name": "ipython",
    "version": 3
   },
   "file_extension": ".py",
   "mimetype": "text/x-python",
   "name": "python",
   "nbconvert_exporter": "python",
   "pygments_lexer": "ipython3",
   "version": "3.9.5"
  },
  "toc": {
   "base_numbering": 1,
   "nav_menu": {},
   "number_sections": true,
   "sideBar": true,
   "skip_h1_title": false,
   "title_cell": "Table of Contents",
   "title_sidebar": "Contents",
   "toc_cell": false,
   "toc_position": {
    "height": "calc(100% - 180px)",
    "left": "10px",
    "top": "150px",
    "width": "295.035px"
   },
   "toc_section_display": true,
   "toc_window_display": false
  }
 },
 "nbformat": 4,
 "nbformat_minor": 1
}
