{
 "cells": [
  {
   "cell_type": "markdown",
   "metadata": {
    "slideshow": {
     "slide_type": "slide"
    }
   },
   "source": [
    "# Calibration\n",
    "\n",
    "**scikit-rf** can be used to calibrate data taken from a VNA\n",
    "* assuming you have measured an acceptable set of standards,\n",
    "* and have a corresponding set ideal responses.\n",
    "\n",
    "This may be referred to as *offline* calibration, because it is not occurring onboard the VNA itself. \n",
    "\n",
    "This technique provides maximum flexibility for non-conventional calibrations, and preserves all raw data."
   ]
  },
  {
   "cell_type": "markdown",
   "metadata": {
    "slideshow": {
     "slide_type": "fragment"
    }
   },
   "source": [
    "There are many calibration algorithms implemented in scikit-rf. The choice between them depends of the media, the available calibration standards and the desired trade-off between accuracy and effort. \n",
    "\n",
    "The calibration algorithms available in scikit-rf are listed in the [calibration API's page](https://scikit-rf.readthedocs.io/en/latest/api/calibration/index.html)."
   ]
  },
  {
   "cell_type": "markdown",
   "metadata": {
    "slideshow": {
     "slide_type": "slide"
    }
   },
   "source": [
    "## Creating a Calibration\n",
    "\n",
    "Calibrations are performed through a `Calibration`. In General, `Calibration` objects require two arguments:\n",
    "\n",
    "*  a list of measured `Network`'s\n",
    "*  a list of ideal `Network`'s\n",
    "\n",
    "The `Network` elements in each list: \n",
    "* must all be similar (same number of ports, frequency info, etc)\n",
    "* must be aligned to each other: the first element of ideals list must correspond to the first element of measured list.\n",
    "\n",
    "*Self-calibration* algorithms, such as TRL, do not require predefined ideal responses."
   ]
  },
  {
   "cell_type": "markdown",
   "metadata": {
    "slideshow": {
     "slide_type": "slide"
    }
   },
   "source": [
    "## One-Port Example\n",
    "\n",
    "To construct a one-port calibration, you need to\n",
    "* have measured at least three standards\n",
    "* have their known *ideal* responses in the form of `Network`s. \n",
    "\n",
    "These `Network` can be created from touchstone files or from ideal analytic's reponse."
   ]
  },
  {
   "cell_type": "markdown",
   "metadata": {
    "slideshow": {
     "slide_type": "subslide"
    }
   },
   "source": [
    "In the following script  the measured and ideal touchstone files for a conventional short-open-load (SOL) calkit are in folders `measured/` and `ideal/`, respectively. These are used to create a `OnePort` Calibration and correct a measured DUT "
   ]
  },
  {
   "cell_type": "markdown",
   "metadata": {
    "slideshow": {
     "slide_type": "-"
    }
   },
   "source": [
    "\t# a list of Network types, holding 'ideal' responses\n",
    "\tmy_ideals = [\\\n",
    "\t        rf.Network('ideal/short.s1p'),\n",
    "\t        rf.Network('ideal/open.s1p'),\n",
    "\t        rf.Network('ideal/load.s1p'),\n",
    "\t        ]\n",
    "\t\n",
    "\t# a list of Network types, holding 'measured' responses\n",
    "\tmy_measured = [\\\n",
    "\t        rf.Network('measured/short.s1p'),\n",
    "\t        rf.Network('measured/open.s1p'),\n",
    "\t        rf.Network('measured/load.s1p'),\n",
    "\t        ]"
   ]
  },
  {
   "cell_type": "markdown",
   "metadata": {
    "slideshow": {
     "slide_type": "subslide"
    }
   },
   "source": [
    "Create a Calibration instance:   "
   ]
  },
  {
   "cell_type": "markdown",
   "metadata": {
    "slideshow": {
     "slide_type": "-"
    }
   },
   "source": [
    "\tcal = rf.calibration.OnePort(\\\n",
    "\t        ideals = my_ideals,\n",
    "\t        measured = my_measured,\n",
    "\t        )"
   ]
  },
  {
   "cell_type": "markdown",
   "metadata": {
    "slideshow": {
     "slide_type": "subslide"
    }
   },
   "source": [
    "Run, and apply calibration to a DUT:"
   ]
  },
  {
   "cell_type": "markdown",
   "metadata": {
    "slideshow": {
     "slide_type": "-"
    }
   },
   "source": [
    "\t# run calibration algorithm\n",
    "\tcal.run() \n",
    "\t\n",
    "\t# apply it to a dut\n",
    "\tdut = rf.Network('my_dut.s1p')\n",
    "\tdut_caled = cal.apply_cal(dut)\n",
    "\tdut_caled.name =  dut.name + ' corrected'"
   ]
  },
  {
   "cell_type": "markdown",
   "metadata": {
    "slideshow": {
     "slide_type": "slide"
    }
   },
   "source": [
    "## Concise One-port\n",
    "This example achieves the same task as the one above except in a more concise *programmatic* way. "
   ]
  },
  {
   "cell_type": "markdown",
   "metadata": {
    "slideshow": {
     "slide_type": "-"
    }
   },
   "source": [
    "    my_ideals = rf.load_all_touchstones_in_dir('ideals/')\n",
    "    my_measured = rf.load_all_touchstones_in_dir('measured/')\n",
    "    \n",
    "    \n",
    "    ## create a Calibration instance\n",
    "    cal = rf.calibration.OnePort(\\\n",
    "\t    ideals = [my_ideals[k] for k in ['short','open','load']],\n",
    "\t    measured = [my_measured[k] for k in ['short','open','load']],\n",
    "\t    )"
   ]
  },
  {
   "cell_type": "markdown",
   "metadata": {
    "slideshow": {
     "slide_type": "slide"
    }
   },
   "source": [
    "##  Two-port Calibrations\n",
    "**skrf** supports a few different two-port algorithms: \n",
    "\n",
    "* Algorythms bases on 12-term error model, such as the traditional `SOLT`. Similar to the OnePort example.\n",
    "* The `EightTerm` calibrations can  be constructed from any number of standards, providing that:\n",
    " * you need 3 **two-port** standards:\n",
    "   * one must be transmissive, \n",
    "   * one must provide a known impedance \n",
    "   * one must be reflective.\n",
    " * Important detail:  of using the 8-term error model formulation is that switch-terms may need to be measured in order to achieve a high quality calibration\n",
    " \n",
    "Note, that the word 8-term is used in the literature to describe a specific error model used by a variety of calibration algorithms, like TRL, LRM, etc. The EightTerm class, is an implementation of the algorithm cited above, which does not use any self-calibration. (---------NOT CLEAR--------)"
   ]
  },
  {
   "cell_type": "markdown",
   "metadata": {
    "slideshow": {
     "slide_type": "slide"
    }
   },
   "source": [
    "## Using one-port ideals in two-port Calibration\n",
    "\n",
    "Commonly, you have data for ideal data for reflective standards in the form of one-port touchstone files (ie `.s1p`).\n",
    "\n",
    "To use this with skrf's two-port calibration method you need to create a two-port network that is a composite of the two networks. The  function `skrf.network.two_port_reflect` does this:\n",
    "\n",
    "<img src=\"figures/2_1port_to_1_2port.svg\"/>"
   ]
  },
  {
   "cell_type": "markdown",
   "metadata": {
    "slideshow": {
     "slide_type": "-"
    }
   },
   "source": [
    "    short = rf.Network('ideals/short.s1p')\n",
    "    shorts = rf.two_port_reflect(short, short)"
   ]
  },
  {
   "cell_type": "markdown",
   "metadata": {
    "slideshow": {
     "slide_type": "slide"
    }
   },
   "source": [
    "## Switch-terms\n",
    "\n",
    "Originally described by Roger Marks, *switch-terms* account for the fact that the 8-term (aka *error-box* ) model is overly simplified:\n",
    "* The two error networks change slightly depending on which port is being excited due to internal switch within the VNA. \n",
    "* Switch terms describe the imperfect load when the source is switch to the other port.\n",
    "\n",
    "Switch terms can be directly measured with a low insertion loss transmissive standard (like a thru) connected between the cables connected to the instrument ports. \n",
    "\n",
    "Sometime, a custom measurement configuration is available on the VNA itself. \n",
    "\n",
    "Without switch-term measurements, your calibration quality will vary depending on properties of you VNA."
   ]
  },
  {
   "cell_type": "markdown",
   "metadata": {
    "slideshow": {
     "slide_type": "slide"
    }
   },
   "source": [
    "## SOLT Example\n",
    "\n",
    "Two-port calibration is accomplished in an identical way to one-port, except all the standards are two-port networks. \n",
    "\n",
    "This is even true of reflective standards (S21=S12=0). \n",
    "\n",
    "So if you measure reflective standards you must measure two of them simultaneously, and store information in a two-port:\n",
    "\n",
    "<img src=\"figures/VNA_2_1port.svg\"/>"
   ]
  },
  {
   "cell_type": "markdown",
   "metadata": {
    "slideshow": {
     "slide_type": "subslide"
    }
   },
   "source": [
    "For example, connect a short to port-1 and a load to port-2, and save a two-port measurement as 'short,load.s2p' or similar\n",
    "   \n",
    "    # a list of Network types, holding 'ideal' responses\n",
    "    my_ideals = [\n",
    "\t    rf.Network('ideal/thru.s2p'),\n",
    "\t    rf.Network('ideal/short, short.s2p'),\n",
    "\t    rf.Network('ideal/open, open.s2p'),\n",
    "\t    rf.Network('ideal/load, load.s2p'),\n",
    "\t    ]\n",
    "    \n",
    "    # a list of Network types, holding 'measured' responses\n",
    "    my_measured = [\n",
    "\t    rf.Network('measured/thru.s2p'),\n",
    "\t    rf.Network('measured/short, short.s2p'),\n",
    "\t    rf.Network('measured/open, open.s2p'),\n",
    "\t    rf.Network('measured/load, load.s2p'),\n",
    "\t    ]"
   ]
  },
  {
   "cell_type": "markdown",
   "metadata": {
    "slideshow": {
     "slide_type": "subslide"
    }
   },
   "source": [
    "    ## create a SOLT instance\n",
    "    cal = rf.calibration.SOLT(\n",
    "\t    ideals = my_ideals,\n",
    "\t    measured = my_measured,\n",
    "\t    )"
   ]
  },
  {
   "cell_type": "markdown",
   "metadata": {
    "slideshow": {
     "slide_type": "fragment"
    }
   },
   "source": [
    "    # run calibration algorithm\n",
    "    cal.run() \n",
    "    \n",
    "    # apply it to a dut\n",
    "    dut = rf.Network('my_dut.s2p')\n",
    "    dut_caled = cal.apply_cal(dut)"
   ]
  },
  {
   "cell_type": "markdown",
   "metadata": {
    "slideshow": {
     "slide_type": "slide"
    }
   },
   "source": [
    "# Example : one port tiered calibration?"
   ]
  },
  {
   "cell_type": "code",
   "execution_count": null,
   "metadata": {
    "slideshow": {
     "slide_type": "-"
    }
   },
   "outputs": [],
   "source": []
  }
 ],
 "metadata": {
  "anaconda-cloud": {},
  "celltoolbar": "Slideshow",
  "kernelspec": {
   "display_name": "Python 3 (ipykernel)",
   "language": "python",
   "name": "python3"
  },
  "language_info": {
   "codemirror_mode": {
    "name": "ipython",
    "version": 3
   },
   "file_extension": ".py",
   "mimetype": "text/x-python",
   "name": "python",
   "nbconvert_exporter": "python",
   "pygments_lexer": "ipython3",
   "version": "3.9.7"
  }
 },
 "nbformat": 4,
 "nbformat_minor": 1
}
